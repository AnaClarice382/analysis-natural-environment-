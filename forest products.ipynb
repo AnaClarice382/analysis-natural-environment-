{
  "nbformat": 4,
  "nbformat_minor": 0,
  "metadata": {
    "colab": {
      "name": "Desmatamento Amazônia",
      "provenance": [],
      "collapsed_sections": [],
      "toc_visible": true,
      "authorship_tag": "ABX9TyMK8B2apJb8L92DtitcpXR6",
      "include_colab_link": true
    },
    "kernelspec": {
      "name": "python3",
      "display_name": "Python 3"
    }
  },
  "cells": [
    {
      "cell_type": "markdown",
      "metadata": {
        "id": "view-in-github",
        "colab_type": "text"
      },
      "source": [
        "<a href=\"https://colab.research.google.com/github/AnaClarice382/analysis-natural-environment-/blob/main/forest%20products.ipynb\" target=\"_parent\"><img src=\"https://colab.research.google.com/assets/colab-badge.svg\" alt=\"Open In Colab\"/></a>"
      ]
    },
    {
      "cell_type": "code",
      "metadata": {
        "id": "QCP-nKDjSqMA"
      },
      "source": [
        "import pandas as pd\n",
        "import plotly.offline as py\n",
        "import plotly.graph_objs as go\n",
        "import plotly.express as px\n",
        "import seaborn as sns"
      ],
      "execution_count": 17,
      "outputs": []
    },
    {
      "cell_type": "code",
      "metadata": {
        "id": "wNTamAjRTRRm"
      },
      "source": [
        "df_full = pd.read_csv('/content/extracao_pfm_1994-2016.csv', engine='python')"
      ],
      "execution_count": 3,
      "outputs": []
    },
    {
      "cell_type": "markdown",
      "metadata": {
        "id": "6Nq3gG8WWe5B"
      },
      "source": [
        "###Dicionário de dados\n",
        "\n",
        "* Tipo de produto florestal O tipo do produto florestal (madeireiro ou não-madeireiro)\n",
        "* Tipo de Floresta Tipo da floresta (natural ou plantada)\n",
        "* Tipo de Uso Finalidade do produto (uso)\n",
        "* Tipo de produto extrativo (com código) - Nome do tipo de produto com informações: Código, produto e unidade de medida\n",
        "* Tipo de produto extrativo - Nome do tipo de produto (sem código e unidade de medida)\n",
        "* Unidade de Medida PEVS - Unidade de medida padrão utilizada para quantificar o\n",
        "produto, de acordo com a fonte da informação (PEVS/IBGE)\n",
        "* Unidade de Medida transformada\n",
        "* Unidade de medida divulgada pelo SNIF, após transformação/conversão dos valores\n",
        "* Ano_PEVS Ano de referência da informação\n",
        "* Quantidade PEVS - Quantidade do produto avaliado (na unidade padrão PEVS)\n",
        "* Quantidade transformada - Quantidade do produto avaliado (na unidade transformada)\n",
        "* Valor (mil reais) - Valor de produção referente à quantidade PEVS\n",
        "\n",
        "\n",
        "Fonte: [Extração de produtos florestais](https://homolog-dados.mma.gov.br/pt_BR/dataset/ffd9ab35-5719-4ec1-8d13-ae8f738bebc2/resource/8171a927-2604-4fe0-8330-468605353d01/download/extracao-de-produtos-florestais-madeireiros-dicionario-de-dados.pdf)"
      ]
    },
    {
      "cell_type": "code",
      "metadata": {
        "colab": {
          "base_uri": "https://localhost:8080/",
          "height": 740
        },
        "id": "-x045Dh1TnLM",
        "outputId": "5655c285-babd-4d32-f978-9812eda9da79"
      },
      "source": [
        "df_full"
      ],
      "execution_count": 4,
      "outputs": [
        {
          "output_type": "execute_result",
          "data": {
            "text/html": [
              "<div>\n",
              "<style scoped>\n",
              "    .dataframe tbody tr th:only-of-type {\n",
              "        vertical-align: middle;\n",
              "    }\n",
              "\n",
              "    .dataframe tbody tr th {\n",
              "        vertical-align: top;\n",
              "    }\n",
              "\n",
              "    .dataframe thead th {\n",
              "        text-align: right;\n",
              "    }\n",
              "</style>\n",
              "<table border=\"1\" class=\"dataframe\">\n",
              "  <thead>\n",
              "    <tr style=\"text-align: right;\">\n",
              "      <th></th>\n",
              "      <th>Tipo de produto florestal</th>\n",
              "      <th>Tipo de Floresta</th>\n",
              "      <th>Tipo de Uso</th>\n",
              "      <th>Tipo de produto extrativo (com código)</th>\n",
              "      <th>Tipo de produto extrativo</th>\n",
              "      <th>Unidade de Medida PEVS</th>\n",
              "      <th>Unidade de Medida transformada</th>\n",
              "      <th>Ano_PEVS</th>\n",
              "      <th>Quantidade PEVS</th>\n",
              "      <th>Quantidade transformada</th>\n",
              "      <th>Valor (mil reais)</th>\n",
              "    </tr>\n",
              "  </thead>\n",
              "  <tbody>\n",
              "    <tr>\n",
              "      <th>0</th>\n",
              "      <td>PFNM</td>\n",
              "      <td>Floresta Natural</td>\n",
              "      <td>Alimentícios</td>\n",
              "      <td>1.1 - Açaí (fruto) (Toneladas)</td>\n",
              "      <td>Açaí (fruto)</td>\n",
              "      <td>Toneladas</td>\n",
              "      <td>Toneladas</td>\n",
              "      <td>1994</td>\n",
              "      <td>98857.0</td>\n",
              "      <td>98857.0</td>\n",
              "      <td>46312.0</td>\n",
              "    </tr>\n",
              "    <tr>\n",
              "      <th>1</th>\n",
              "      <td>PFNM</td>\n",
              "      <td>Floresta Natural</td>\n",
              "      <td>Alimentícios</td>\n",
              "      <td>1.1 - Açaí (fruto) (Toneladas)</td>\n",
              "      <td>Açaí (fruto)</td>\n",
              "      <td>Toneladas</td>\n",
              "      <td>Toneladas</td>\n",
              "      <td>1995</td>\n",
              "      <td>108922.0</td>\n",
              "      <td>108922.0</td>\n",
              "      <td>35075.0</td>\n",
              "    </tr>\n",
              "    <tr>\n",
              "      <th>2</th>\n",
              "      <td>PFNM</td>\n",
              "      <td>Floresta Natural</td>\n",
              "      <td>Alimentícios</td>\n",
              "      <td>1.1 - Açaí (fruto) (Toneladas)</td>\n",
              "      <td>Açaí (fruto)</td>\n",
              "      <td>Toneladas</td>\n",
              "      <td>Toneladas</td>\n",
              "      <td>1996</td>\n",
              "      <td>111438.0</td>\n",
              "      <td>111438.0</td>\n",
              "      <td>51801.0</td>\n",
              "    </tr>\n",
              "    <tr>\n",
              "      <th>3</th>\n",
              "      <td>PFNM</td>\n",
              "      <td>Floresta Natural</td>\n",
              "      <td>Alimentícios</td>\n",
              "      <td>1.1 - Açaí (fruto) (Toneladas)</td>\n",
              "      <td>Açaí (fruto)</td>\n",
              "      <td>Toneladas</td>\n",
              "      <td>Toneladas</td>\n",
              "      <td>1997</td>\n",
              "      <td>100214.0</td>\n",
              "      <td>100214.0</td>\n",
              "      <td>35690.0</td>\n",
              "    </tr>\n",
              "    <tr>\n",
              "      <th>4</th>\n",
              "      <td>PFNM</td>\n",
              "      <td>Floresta Natural</td>\n",
              "      <td>Alimentícios</td>\n",
              "      <td>1.1 - Açaí (fruto) (Toneladas)</td>\n",
              "      <td>Açaí (fruto)</td>\n",
              "      <td>Toneladas</td>\n",
              "      <td>Toneladas</td>\n",
              "      <td>1998</td>\n",
              "      <td>119074.0</td>\n",
              "      <td>119074.0</td>\n",
              "      <td>48685.0</td>\n",
              "    </tr>\n",
              "    <tr>\n",
              "      <th>...</th>\n",
              "      <td>...</td>\n",
              "      <td>...</td>\n",
              "      <td>...</td>\n",
              "      <td>...</td>\n",
              "      <td>...</td>\n",
              "      <td>...</td>\n",
              "      <td>...</td>\n",
              "      <td>...</td>\n",
              "      <td>...</td>\n",
              "      <td>...</td>\n",
              "      <td>...</td>\n",
              "    </tr>\n",
              "    <tr>\n",
              "      <th>1467</th>\n",
              "      <td>PFM</td>\n",
              "      <td>Floresta Plantada</td>\n",
              "      <td>Madeira para Indústria - Subdivisão II</td>\n",
              "      <td>1.3.2.2 - Madeira em tora de pinus para outras...</td>\n",
              "      <td>Madeira em tora de pinus para outras finalidad...</td>\n",
              "      <td>Metros cúbicos</td>\n",
              "      <td>Metros cúbicos</td>\n",
              "      <td>2016</td>\n",
              "      <td>20312931.0</td>\n",
              "      <td>20312931.0</td>\n",
              "      <td>1611746.0</td>\n",
              "    </tr>\n",
              "    <tr>\n",
              "      <th>1468</th>\n",
              "      <td>PFM</td>\n",
              "      <td>Floresta Plantada</td>\n",
              "      <td>Madeira para Indústria - Subdivisão II</td>\n",
              "      <td>1.3.2.3 - Madeira em tora de outras espécies p...</td>\n",
              "      <td>Madeira em tora de outras espécies para outras...</td>\n",
              "      <td>Metros cúbicos</td>\n",
              "      <td>Metros cúbicos</td>\n",
              "      <td>2016</td>\n",
              "      <td>1683551.0</td>\n",
              "      <td>1683551.0</td>\n",
              "      <td>248859.0</td>\n",
              "    </tr>\n",
              "    <tr>\n",
              "      <th>1469</th>\n",
              "      <td>PFNM</td>\n",
              "      <td>Floresta Plantada</td>\n",
              "      <td>Outros produtos da silvicultura</td>\n",
              "      <td>2.1 - Acácia-negra (casca) (Toneladas)</td>\n",
              "      <td>Acácia-negra (casca)</td>\n",
              "      <td>Toneladas</td>\n",
              "      <td>Toneladas</td>\n",
              "      <td>2016</td>\n",
              "      <td>195913.0</td>\n",
              "      <td>195913.0</td>\n",
              "      <td>42615.0</td>\n",
              "    </tr>\n",
              "    <tr>\n",
              "      <th>1470</th>\n",
              "      <td>PFNM</td>\n",
              "      <td>Floresta Plantada</td>\n",
              "      <td>Outros produtos da silvicultura</td>\n",
              "      <td>2.2 - Eucalipto (folha) (Toneladas)</td>\n",
              "      <td>Eucalipto (folha)</td>\n",
              "      <td>Toneladas</td>\n",
              "      <td>Toneladas</td>\n",
              "      <td>2016</td>\n",
              "      <td>38285.0</td>\n",
              "      <td>38285.0</td>\n",
              "      <td>2296.0</td>\n",
              "    </tr>\n",
              "    <tr>\n",
              "      <th>1471</th>\n",
              "      <td>PFNM</td>\n",
              "      <td>Floresta Plantada</td>\n",
              "      <td>Outros produtos da silvicultura</td>\n",
              "      <td>2.3 - Resina (Toneladas)</td>\n",
              "      <td>Resina</td>\n",
              "      <td>Toneladas</td>\n",
              "      <td>Toneladas</td>\n",
              "      <td>2016</td>\n",
              "      <td>106227.0</td>\n",
              "      <td>106227.0</td>\n",
              "      <td>282130.0</td>\n",
              "    </tr>\n",
              "  </tbody>\n",
              "</table>\n",
              "<p>1472 rows × 11 columns</p>\n",
              "</div>"
            ],
            "text/plain": [
              "     Tipo de produto florestal  ... Valor (mil reais)\n",
              "0                         PFNM  ...           46312.0\n",
              "1                         PFNM  ...           35075.0\n",
              "2                         PFNM  ...           51801.0\n",
              "3                         PFNM  ...           35690.0\n",
              "4                         PFNM  ...           48685.0\n",
              "...                        ...  ...               ...\n",
              "1467                       PFM  ...         1611746.0\n",
              "1468                       PFM  ...          248859.0\n",
              "1469                      PFNM  ...           42615.0\n",
              "1470                      PFNM  ...            2296.0\n",
              "1471                      PFNM  ...          282130.0\n",
              "\n",
              "[1472 rows x 11 columns]"
            ]
          },
          "metadata": {
            "tags": []
          },
          "execution_count": 4
        }
      ]
    },
    {
      "cell_type": "code",
      "metadata": {
        "id": "quxhRS7QSV3T"
      },
      "source": [
        "df_full = df_full.rename(columns={\"Tipo de Uso\":\"Tipo_de_Uso\"})"
      ],
      "execution_count": 145,
      "outputs": []
    },
    {
      "cell_type": "code",
      "metadata": {
        "colab": {
          "base_uri": "https://localhost:8080/"
        },
        "id": "eBBzmSzrTXOU",
        "outputId": "1dd755d7-7921-468c-fffd-fbb4806d3d9f"
      },
      "source": [
        "df_full['Tipo de produto florestal'].unique() #Conferindo se só existem dois tipos de produto"
      ],
      "execution_count": 146,
      "outputs": [
        {
          "output_type": "execute_result",
          "data": {
            "text/plain": [
              "array(['PFNM', 'PFM'], dtype=object)"
            ]
          },
          "metadata": {
            "tags": []
          },
          "execution_count": 146
        }
      ]
    },
    {
      "cell_type": "markdown",
      "metadata": {
        "id": "RmClxVAfxanh"
      },
      "source": [
        "### O que estou buscando ?\n",
        "*  Quais tipos de produtos são os mais extraidos? \n",
        "*  Esses são madereiros ou não? \n",
        "*  Quanto gera de dinheiro? \n",
        "*  São florestas plantadas ou não? \n",
        "*  Houve um aumento da extração de algum produto?"
      ]
    },
    {
      "cell_type": "code",
      "metadata": {
        "id": "QdQmCJ0ogIoZ"
      },
      "source": [
        "df_madereiro = df_full[df_full['Tipo de produto florestal'] == 'PFM'].loc[:,:]"
      ],
      "execution_count": 147,
      "outputs": []
    },
    {
      "cell_type": "code",
      "metadata": {
        "id": "mdRgp32Egm_l"
      },
      "source": [
        "df_n_madereiro = df_full[df_full['Tipo de produto florestal'] == 'PFNM'].loc[:,:]"
      ],
      "execution_count": 149,
      "outputs": []
    },
    {
      "cell_type": "code",
      "metadata": {
        "colab": {
          "base_uri": "https://localhost:8080/"
        },
        "id": "nkiBPSxGI9_c",
        "outputId": "9646fe29-cd1a-496e-a1f2-458d50a0988e"
      },
      "source": [
        "df_n_madereiro[\"Tipo_de_Uso\"].value_counts()"
      ],
      "execution_count": 151,
      "outputs": [
        {
          "output_type": "execute_result",
          "data": {
            "text/plain": [
              "Alimentícios                                  230\n",
              "Oleaginosos                                   184\n",
              "Fibras                                         92\n",
              "Aromáticos, medicinais, tóxicos e corantes     92\n",
              "Outros produtos da silvicultura                69\n",
              "Ceras                                          69\n",
              "Gomas não elásticas                            69\n",
              "Tanantes                                       69\n",
              "Borrachas                                      69\n",
              "Name: Tipo_de_Uso, dtype: int64"
            ]
          },
          "metadata": {
            "tags": []
          },
          "execution_count": 151
        }
      ]
    },
    {
      "cell_type": "code",
      "metadata": {
        "colab": {
          "base_uri": "https://localhost:8080/"
        },
        "id": "Z4nlDrmLVEg4",
        "outputId": "74c9b5be-1c46-43dc-e05d-23ba7c5b86d9"
      },
      "source": [
        "df_madereiro[\"Tipo_de_Uso\"].value_counts()"
      ],
      "execution_count": 165,
      "outputs": [
        {
          "output_type": "execute_result",
          "data": {
            "text/plain": [
              "Madeira para Combustível - Subdivisão     138\n",
              "Madeira para Indústria - Subdivisão II    138\n",
              "Madeira para Combustível                   92\n",
              "Madeira para Indústria - subdivisão        69\n",
              "Madeira para Indústria                     46\n",
              "Árvores abatidas                           23\n",
              "Nó de pinho                                23\n",
              "Name: Tipo_de_Uso, dtype: int64"
            ]
          },
          "metadata": {
            "tags": []
          },
          "execution_count": 165
        }
      ]
    },
    {
      "cell_type": "code",
      "metadata": {
        "id": "QGj7DXlaAfKS"
      },
      "source": [
        "def plotPie(df, title):\n",
        "  fig = px.pie(df, values=df[\"Tipo_de_Uso\"].value_counts(), names=df[\"Tipo_de_Uso\"].value_counts().index.tolist(), title=title)\n",
        "  fig.show()"
      ],
      "execution_count": 152,
      "outputs": []
    },
    {
      "cell_type": "code",
      "metadata": {
        "colab": {
          "base_uri": "https://localhost:8080/",
          "height": 542
        },
        "id": "aYacaHZwE49U",
        "outputId": "0f0195fe-aaac-4f82-b598-ed4395f616c0"
      },
      "source": [
        "plotPie(df_n_madereiro, \"Tipos de usos dos produtos não madereiros\")"
      ],
      "execution_count": 153,
      "outputs": [
        {
          "output_type": "display_data",
          "data": {
            "text/html": [
              "<html>\n",
              "<head><meta charset=\"utf-8\" /></head>\n",
              "<body>\n",
              "    <div>\n",
              "            <script src=\"https://cdnjs.cloudflare.com/ajax/libs/mathjax/2.7.5/MathJax.js?config=TeX-AMS-MML_SVG\"></script><script type=\"text/javascript\">if (window.MathJax) {MathJax.Hub.Config({SVG: {font: \"STIX-Web\"}});}</script>\n",
              "                <script type=\"text/javascript\">window.PlotlyConfig = {MathJaxConfig: 'local'};</script>\n",
              "        <script src=\"https://cdn.plot.ly/plotly-latest.min.js\"></script>    \n",
              "            <div id=\"92a8ce3c-1081-40cf-87fe-774bb843758c\" class=\"plotly-graph-div\" style=\"height:525px; width:100%;\"></div>\n",
              "            <script type=\"text/javascript\">\n",
              "                \n",
              "                    window.PLOTLYENV=window.PLOTLYENV || {};\n",
              "                    \n",
              "                if (document.getElementById(\"92a8ce3c-1081-40cf-87fe-774bb843758c\")) {\n",
              "                    Plotly.newPlot(\n",
              "                        '92a8ce3c-1081-40cf-87fe-774bb843758c',\n",
              "                        [{\"domain\": {\"x\": [0.0, 1.0], \"y\": [0.0, 1.0]}, \"hoverlabel\": {\"namelength\": 0}, \"hovertemplate\": \"label=%{label}<br>value=%{value}\", \"labels\": [\"Aliment\\u00edcios\", \"Oleaginosos\", \"Fibras\", \"Arom\\u00e1ticos, medicinais, t\\u00f3xicos e corantes\", \"Outros produtos da silvicultura\", \"Ceras\", \"Gomas n\\u00e3o el\\u00e1sticas\", \"Tanantes\", \"Borrachas\"], \"legendgroup\": \"\", \"name\": \"\", \"showlegend\": true, \"type\": \"pie\", \"values\": [230, 184, 92, 92, 69, 69, 69, 69, 69]}],\n",
              "                        {\"legend\": {\"tracegroupgap\": 0}, \"template\": {\"data\": {\"bar\": [{\"error_x\": {\"color\": \"#2a3f5f\"}, \"error_y\": {\"color\": \"#2a3f5f\"}, \"marker\": {\"line\": {\"color\": \"#E5ECF6\", \"width\": 0.5}}, \"type\": \"bar\"}], \"barpolar\": [{\"marker\": {\"line\": {\"color\": \"#E5ECF6\", \"width\": 0.5}}, \"type\": \"barpolar\"}], \"carpet\": [{\"aaxis\": {\"endlinecolor\": \"#2a3f5f\", \"gridcolor\": \"white\", \"linecolor\": \"white\", \"minorgridcolor\": \"white\", \"startlinecolor\": \"#2a3f5f\"}, \"baxis\": {\"endlinecolor\": \"#2a3f5f\", \"gridcolor\": \"white\", \"linecolor\": \"white\", \"minorgridcolor\": \"white\", \"startlinecolor\": \"#2a3f5f\"}, \"type\": \"carpet\"}], \"choropleth\": [{\"colorbar\": {\"outlinewidth\": 0, \"ticks\": \"\"}, \"type\": \"choropleth\"}], \"contour\": [{\"colorbar\": {\"outlinewidth\": 0, \"ticks\": \"\"}, \"colorscale\": [[0.0, \"#0d0887\"], [0.1111111111111111, \"#46039f\"], [0.2222222222222222, \"#7201a8\"], [0.3333333333333333, \"#9c179e\"], [0.4444444444444444, \"#bd3786\"], [0.5555555555555556, \"#d8576b\"], [0.6666666666666666, \"#ed7953\"], [0.7777777777777778, \"#fb9f3a\"], [0.8888888888888888, \"#fdca26\"], [1.0, \"#f0f921\"]], \"type\": \"contour\"}], \"contourcarpet\": [{\"colorbar\": {\"outlinewidth\": 0, \"ticks\": \"\"}, \"type\": \"contourcarpet\"}], \"heatmap\": [{\"colorbar\": {\"outlinewidth\": 0, \"ticks\": \"\"}, \"colorscale\": [[0.0, \"#0d0887\"], [0.1111111111111111, \"#46039f\"], [0.2222222222222222, \"#7201a8\"], [0.3333333333333333, \"#9c179e\"], [0.4444444444444444, \"#bd3786\"], [0.5555555555555556, \"#d8576b\"], [0.6666666666666666, \"#ed7953\"], [0.7777777777777778, \"#fb9f3a\"], [0.8888888888888888, \"#fdca26\"], [1.0, \"#f0f921\"]], \"type\": \"heatmap\"}], \"heatmapgl\": [{\"colorbar\": {\"outlinewidth\": 0, \"ticks\": \"\"}, \"colorscale\": [[0.0, \"#0d0887\"], [0.1111111111111111, \"#46039f\"], [0.2222222222222222, \"#7201a8\"], [0.3333333333333333, \"#9c179e\"], [0.4444444444444444, \"#bd3786\"], [0.5555555555555556, \"#d8576b\"], [0.6666666666666666, \"#ed7953\"], [0.7777777777777778, \"#fb9f3a\"], [0.8888888888888888, \"#fdca26\"], [1.0, \"#f0f921\"]], \"type\": \"heatmapgl\"}], \"histogram\": [{\"marker\": {\"colorbar\": {\"outlinewidth\": 0, \"ticks\": \"\"}}, \"type\": \"histogram\"}], \"histogram2d\": [{\"colorbar\": {\"outlinewidth\": 0, \"ticks\": \"\"}, \"colorscale\": [[0.0, \"#0d0887\"], [0.1111111111111111, \"#46039f\"], [0.2222222222222222, \"#7201a8\"], [0.3333333333333333, \"#9c179e\"], [0.4444444444444444, \"#bd3786\"], [0.5555555555555556, \"#d8576b\"], [0.6666666666666666, \"#ed7953\"], [0.7777777777777778, \"#fb9f3a\"], [0.8888888888888888, \"#fdca26\"], [1.0, \"#f0f921\"]], \"type\": \"histogram2d\"}], \"histogram2dcontour\": [{\"colorbar\": {\"outlinewidth\": 0, \"ticks\": \"\"}, \"colorscale\": [[0.0, \"#0d0887\"], [0.1111111111111111, \"#46039f\"], [0.2222222222222222, \"#7201a8\"], [0.3333333333333333, \"#9c179e\"], [0.4444444444444444, \"#bd3786\"], [0.5555555555555556, \"#d8576b\"], [0.6666666666666666, \"#ed7953\"], [0.7777777777777778, \"#fb9f3a\"], [0.8888888888888888, \"#fdca26\"], [1.0, \"#f0f921\"]], \"type\": \"histogram2dcontour\"}], \"mesh3d\": [{\"colorbar\": {\"outlinewidth\": 0, \"ticks\": \"\"}, \"type\": \"mesh3d\"}], \"parcoords\": [{\"line\": {\"colorbar\": {\"outlinewidth\": 0, \"ticks\": \"\"}}, \"type\": \"parcoords\"}], \"pie\": [{\"automargin\": true, \"type\": \"pie\"}], \"scatter\": [{\"marker\": {\"colorbar\": {\"outlinewidth\": 0, \"ticks\": \"\"}}, \"type\": \"scatter\"}], \"scatter3d\": [{\"line\": {\"colorbar\": {\"outlinewidth\": 0, \"ticks\": \"\"}}, \"marker\": {\"colorbar\": {\"outlinewidth\": 0, \"ticks\": \"\"}}, \"type\": \"scatter3d\"}], \"scattercarpet\": [{\"marker\": {\"colorbar\": {\"outlinewidth\": 0, \"ticks\": \"\"}}, \"type\": \"scattercarpet\"}], \"scattergeo\": [{\"marker\": {\"colorbar\": {\"outlinewidth\": 0, \"ticks\": \"\"}}, \"type\": \"scattergeo\"}], \"scattergl\": [{\"marker\": {\"colorbar\": {\"outlinewidth\": 0, \"ticks\": \"\"}}, \"type\": \"scattergl\"}], \"scattermapbox\": [{\"marker\": {\"colorbar\": {\"outlinewidth\": 0, \"ticks\": \"\"}}, \"type\": \"scattermapbox\"}], \"scatterpolar\": [{\"marker\": {\"colorbar\": {\"outlinewidth\": 0, \"ticks\": \"\"}}, \"type\": \"scatterpolar\"}], \"scatterpolargl\": [{\"marker\": {\"colorbar\": {\"outlinewidth\": 0, \"ticks\": \"\"}}, \"type\": \"scatterpolargl\"}], \"scatterternary\": [{\"marker\": {\"colorbar\": {\"outlinewidth\": 0, \"ticks\": \"\"}}, \"type\": \"scatterternary\"}], \"surface\": [{\"colorbar\": {\"outlinewidth\": 0, \"ticks\": \"\"}, \"colorscale\": [[0.0, \"#0d0887\"], [0.1111111111111111, \"#46039f\"], [0.2222222222222222, \"#7201a8\"], [0.3333333333333333, \"#9c179e\"], [0.4444444444444444, \"#bd3786\"], [0.5555555555555556, \"#d8576b\"], [0.6666666666666666, \"#ed7953\"], [0.7777777777777778, \"#fb9f3a\"], [0.8888888888888888, \"#fdca26\"], [1.0, \"#f0f921\"]], \"type\": \"surface\"}], \"table\": [{\"cells\": {\"fill\": {\"color\": \"#EBF0F8\"}, \"line\": {\"color\": \"white\"}}, \"header\": {\"fill\": {\"color\": \"#C8D4E3\"}, \"line\": {\"color\": \"white\"}}, \"type\": \"table\"}]}, \"layout\": {\"annotationdefaults\": {\"arrowcolor\": \"#2a3f5f\", \"arrowhead\": 0, \"arrowwidth\": 1}, \"coloraxis\": {\"colorbar\": {\"outlinewidth\": 0, \"ticks\": \"\"}}, \"colorscale\": {\"diverging\": [[0, \"#8e0152\"], [0.1, \"#c51b7d\"], [0.2, \"#de77ae\"], [0.3, \"#f1b6da\"], [0.4, \"#fde0ef\"], [0.5, \"#f7f7f7\"], [0.6, \"#e6f5d0\"], [0.7, \"#b8e186\"], [0.8, \"#7fbc41\"], [0.9, \"#4d9221\"], [1, \"#276419\"]], \"sequential\": [[0.0, \"#0d0887\"], [0.1111111111111111, \"#46039f\"], [0.2222222222222222, \"#7201a8\"], [0.3333333333333333, \"#9c179e\"], [0.4444444444444444, \"#bd3786\"], [0.5555555555555556, \"#d8576b\"], [0.6666666666666666, \"#ed7953\"], [0.7777777777777778, \"#fb9f3a\"], [0.8888888888888888, \"#fdca26\"], [1.0, \"#f0f921\"]], \"sequentialminus\": [[0.0, \"#0d0887\"], [0.1111111111111111, \"#46039f\"], [0.2222222222222222, \"#7201a8\"], [0.3333333333333333, \"#9c179e\"], [0.4444444444444444, \"#bd3786\"], [0.5555555555555556, \"#d8576b\"], [0.6666666666666666, \"#ed7953\"], [0.7777777777777778, \"#fb9f3a\"], [0.8888888888888888, \"#fdca26\"], [1.0, \"#f0f921\"]]}, \"colorway\": [\"#636efa\", \"#EF553B\", \"#00cc96\", \"#ab63fa\", \"#FFA15A\", \"#19d3f3\", \"#FF6692\", \"#B6E880\", \"#FF97FF\", \"#FECB52\"], \"font\": {\"color\": \"#2a3f5f\"}, \"geo\": {\"bgcolor\": \"white\", \"lakecolor\": \"white\", \"landcolor\": \"#E5ECF6\", \"showlakes\": true, \"showland\": true, \"subunitcolor\": \"white\"}, \"hoverlabel\": {\"align\": \"left\"}, \"hovermode\": \"closest\", \"mapbox\": {\"style\": \"light\"}, \"paper_bgcolor\": \"white\", \"plot_bgcolor\": \"#E5ECF6\", \"polar\": {\"angularaxis\": {\"gridcolor\": \"white\", \"linecolor\": \"white\", \"ticks\": \"\"}, \"bgcolor\": \"#E5ECF6\", \"radialaxis\": {\"gridcolor\": \"white\", \"linecolor\": \"white\", \"ticks\": \"\"}}, \"scene\": {\"xaxis\": {\"backgroundcolor\": \"#E5ECF6\", \"gridcolor\": \"white\", \"gridwidth\": 2, \"linecolor\": \"white\", \"showbackground\": true, \"ticks\": \"\", \"zerolinecolor\": \"white\"}, \"yaxis\": {\"backgroundcolor\": \"#E5ECF6\", \"gridcolor\": \"white\", \"gridwidth\": 2, \"linecolor\": \"white\", \"showbackground\": true, \"ticks\": \"\", \"zerolinecolor\": \"white\"}, \"zaxis\": {\"backgroundcolor\": \"#E5ECF6\", \"gridcolor\": \"white\", \"gridwidth\": 2, \"linecolor\": \"white\", \"showbackground\": true, \"ticks\": \"\", \"zerolinecolor\": \"white\"}}, \"shapedefaults\": {\"line\": {\"color\": \"#2a3f5f\"}}, \"ternary\": {\"aaxis\": {\"gridcolor\": \"white\", \"linecolor\": \"white\", \"ticks\": \"\"}, \"baxis\": {\"gridcolor\": \"white\", \"linecolor\": \"white\", \"ticks\": \"\"}, \"bgcolor\": \"#E5ECF6\", \"caxis\": {\"gridcolor\": \"white\", \"linecolor\": \"white\", \"ticks\": \"\"}}, \"title\": {\"x\": 0.05}, \"xaxis\": {\"automargin\": true, \"gridcolor\": \"white\", \"linecolor\": \"white\", \"ticks\": \"\", \"title\": {\"standoff\": 15}, \"zerolinecolor\": \"white\", \"zerolinewidth\": 2}, \"yaxis\": {\"automargin\": true, \"gridcolor\": \"white\", \"linecolor\": \"white\", \"ticks\": \"\", \"title\": {\"standoff\": 15}, \"zerolinecolor\": \"white\", \"zerolinewidth\": 2}}}, \"title\": {\"text\": \"Tipos de usos dos produtos n\\u00e3o madereiros\"}},\n",
              "                        {\"responsive\": true}\n",
              "                    ).then(function(){\n",
              "                            \n",
              "var gd = document.getElementById('92a8ce3c-1081-40cf-87fe-774bb843758c');\n",
              "var x = new MutationObserver(function (mutations, observer) {{\n",
              "        var display = window.getComputedStyle(gd).display;\n",
              "        if (!display || display === 'none') {{\n",
              "            console.log([gd, 'removed!']);\n",
              "            Plotly.purge(gd);\n",
              "            observer.disconnect();\n",
              "        }}\n",
              "}});\n",
              "\n",
              "// Listen for the removal of the full notebook cells\n",
              "var notebookContainer = gd.closest('#notebook-container');\n",
              "if (notebookContainer) {{\n",
              "    x.observe(notebookContainer, {childList: true});\n",
              "}}\n",
              "\n",
              "// Listen for the clearing of the current output cell\n",
              "var outputEl = gd.closest('.output');\n",
              "if (outputEl) {{\n",
              "    x.observe(outputEl, {childList: true});\n",
              "}}\n",
              "\n",
              "                        })\n",
              "                };\n",
              "                \n",
              "            </script>\n",
              "        </div>\n",
              "</body>\n",
              "</html>"
            ]
          },
          "metadata": {
            "tags": []
          }
        }
      ]
    },
    {
      "cell_type": "code",
      "metadata": {
        "colab": {
          "base_uri": "https://localhost:8080/",
          "height": 542
        },
        "id": "LCUb_2efF4sJ",
        "outputId": "a7cb8afb-6c3a-422e-ef52-10ea225afa23"
      },
      "source": [
        "plotPie(df_madereiro, \"Tipos de usos dos produtos madereiros\")"
      ],
      "execution_count": 154,
      "outputs": [
        {
          "output_type": "display_data",
          "data": {
            "text/html": [
              "<html>\n",
              "<head><meta charset=\"utf-8\" /></head>\n",
              "<body>\n",
              "    <div>\n",
              "            <script src=\"https://cdnjs.cloudflare.com/ajax/libs/mathjax/2.7.5/MathJax.js?config=TeX-AMS-MML_SVG\"></script><script type=\"text/javascript\">if (window.MathJax) {MathJax.Hub.Config({SVG: {font: \"STIX-Web\"}});}</script>\n",
              "                <script type=\"text/javascript\">window.PlotlyConfig = {MathJaxConfig: 'local'};</script>\n",
              "        <script src=\"https://cdn.plot.ly/plotly-latest.min.js\"></script>    \n",
              "            <div id=\"24ebfa47-01d7-45cd-bb86-02d7b3ac4be2\" class=\"plotly-graph-div\" style=\"height:525px; width:100%;\"></div>\n",
              "            <script type=\"text/javascript\">\n",
              "                \n",
              "                    window.PLOTLYENV=window.PLOTLYENV || {};\n",
              "                    \n",
              "                if (document.getElementById(\"24ebfa47-01d7-45cd-bb86-02d7b3ac4be2\")) {\n",
              "                    Plotly.newPlot(\n",
              "                        '24ebfa47-01d7-45cd-bb86-02d7b3ac4be2',\n",
              "                        [{\"domain\": {\"x\": [0.0, 1.0], \"y\": [0.0, 1.0]}, \"hoverlabel\": {\"namelength\": 0}, \"hovertemplate\": \"label=%{label}<br>value=%{value}\", \"labels\": [\"Madeira para Combust\\u00edvel - Subdivis\\u00e3o\", \"Madeira para Ind\\u00fastria - Subdivis\\u00e3o II\", \"Madeira para Combust\\u00edvel\", \"Madeira para Ind\\u00fastria - subdivis\\u00e3o\", \"Madeira para Ind\\u00fastria\", \"\\u00c1rvores abatidas\", \"N\\u00f3 de pinho\"], \"legendgroup\": \"\", \"name\": \"\", \"showlegend\": true, \"type\": \"pie\", \"values\": [138, 138, 92, 69, 46, 23, 23]}],\n",
              "                        {\"legend\": {\"tracegroupgap\": 0}, \"template\": {\"data\": {\"bar\": [{\"error_x\": {\"color\": \"#2a3f5f\"}, \"error_y\": {\"color\": \"#2a3f5f\"}, \"marker\": {\"line\": {\"color\": \"#E5ECF6\", \"width\": 0.5}}, \"type\": \"bar\"}], \"barpolar\": [{\"marker\": {\"line\": {\"color\": \"#E5ECF6\", \"width\": 0.5}}, \"type\": \"barpolar\"}], \"carpet\": [{\"aaxis\": {\"endlinecolor\": \"#2a3f5f\", \"gridcolor\": \"white\", \"linecolor\": \"white\", \"minorgridcolor\": \"white\", \"startlinecolor\": \"#2a3f5f\"}, \"baxis\": {\"endlinecolor\": \"#2a3f5f\", \"gridcolor\": \"white\", \"linecolor\": \"white\", \"minorgridcolor\": \"white\", \"startlinecolor\": \"#2a3f5f\"}, \"type\": \"carpet\"}], \"choropleth\": [{\"colorbar\": {\"outlinewidth\": 0, \"ticks\": \"\"}, \"type\": \"choropleth\"}], \"contour\": [{\"colorbar\": {\"outlinewidth\": 0, \"ticks\": \"\"}, \"colorscale\": [[0.0, \"#0d0887\"], [0.1111111111111111, \"#46039f\"], [0.2222222222222222, \"#7201a8\"], [0.3333333333333333, \"#9c179e\"], [0.4444444444444444, \"#bd3786\"], [0.5555555555555556, \"#d8576b\"], [0.6666666666666666, \"#ed7953\"], [0.7777777777777778, \"#fb9f3a\"], [0.8888888888888888, \"#fdca26\"], [1.0, \"#f0f921\"]], \"type\": \"contour\"}], \"contourcarpet\": [{\"colorbar\": {\"outlinewidth\": 0, \"ticks\": \"\"}, \"type\": \"contourcarpet\"}], \"heatmap\": [{\"colorbar\": {\"outlinewidth\": 0, \"ticks\": \"\"}, \"colorscale\": [[0.0, \"#0d0887\"], [0.1111111111111111, \"#46039f\"], [0.2222222222222222, \"#7201a8\"], [0.3333333333333333, \"#9c179e\"], [0.4444444444444444, \"#bd3786\"], [0.5555555555555556, \"#d8576b\"], [0.6666666666666666, \"#ed7953\"], [0.7777777777777778, \"#fb9f3a\"], [0.8888888888888888, \"#fdca26\"], [1.0, \"#f0f921\"]], \"type\": \"heatmap\"}], \"heatmapgl\": [{\"colorbar\": {\"outlinewidth\": 0, \"ticks\": \"\"}, \"colorscale\": [[0.0, \"#0d0887\"], [0.1111111111111111, \"#46039f\"], [0.2222222222222222, \"#7201a8\"], [0.3333333333333333, \"#9c179e\"], [0.4444444444444444, \"#bd3786\"], [0.5555555555555556, \"#d8576b\"], [0.6666666666666666, \"#ed7953\"], [0.7777777777777778, \"#fb9f3a\"], [0.8888888888888888, \"#fdca26\"], [1.0, \"#f0f921\"]], \"type\": \"heatmapgl\"}], \"histogram\": [{\"marker\": {\"colorbar\": {\"outlinewidth\": 0, \"ticks\": \"\"}}, \"type\": \"histogram\"}], \"histogram2d\": [{\"colorbar\": {\"outlinewidth\": 0, \"ticks\": \"\"}, \"colorscale\": [[0.0, \"#0d0887\"], [0.1111111111111111, \"#46039f\"], [0.2222222222222222, \"#7201a8\"], [0.3333333333333333, \"#9c179e\"], [0.4444444444444444, \"#bd3786\"], [0.5555555555555556, \"#d8576b\"], [0.6666666666666666, \"#ed7953\"], [0.7777777777777778, \"#fb9f3a\"], [0.8888888888888888, \"#fdca26\"], [1.0, \"#f0f921\"]], \"type\": \"histogram2d\"}], \"histogram2dcontour\": [{\"colorbar\": {\"outlinewidth\": 0, \"ticks\": \"\"}, \"colorscale\": [[0.0, \"#0d0887\"], [0.1111111111111111, \"#46039f\"], [0.2222222222222222, \"#7201a8\"], [0.3333333333333333, \"#9c179e\"], [0.4444444444444444, \"#bd3786\"], [0.5555555555555556, \"#d8576b\"], [0.6666666666666666, \"#ed7953\"], [0.7777777777777778, \"#fb9f3a\"], [0.8888888888888888, \"#fdca26\"], [1.0, \"#f0f921\"]], \"type\": \"histogram2dcontour\"}], \"mesh3d\": [{\"colorbar\": {\"outlinewidth\": 0, \"ticks\": \"\"}, \"type\": \"mesh3d\"}], \"parcoords\": [{\"line\": {\"colorbar\": {\"outlinewidth\": 0, \"ticks\": \"\"}}, \"type\": \"parcoords\"}], \"pie\": [{\"automargin\": true, \"type\": \"pie\"}], \"scatter\": [{\"marker\": {\"colorbar\": {\"outlinewidth\": 0, \"ticks\": \"\"}}, \"type\": \"scatter\"}], \"scatter3d\": [{\"line\": {\"colorbar\": {\"outlinewidth\": 0, \"ticks\": \"\"}}, \"marker\": {\"colorbar\": {\"outlinewidth\": 0, \"ticks\": \"\"}}, \"type\": \"scatter3d\"}], \"scattercarpet\": [{\"marker\": {\"colorbar\": {\"outlinewidth\": 0, \"ticks\": \"\"}}, \"type\": \"scattercarpet\"}], \"scattergeo\": [{\"marker\": {\"colorbar\": {\"outlinewidth\": 0, \"ticks\": \"\"}}, \"type\": \"scattergeo\"}], \"scattergl\": [{\"marker\": {\"colorbar\": {\"outlinewidth\": 0, \"ticks\": \"\"}}, \"type\": \"scattergl\"}], \"scattermapbox\": [{\"marker\": {\"colorbar\": {\"outlinewidth\": 0, \"ticks\": \"\"}}, \"type\": \"scattermapbox\"}], \"scatterpolar\": [{\"marker\": {\"colorbar\": {\"outlinewidth\": 0, \"ticks\": \"\"}}, \"type\": \"scatterpolar\"}], \"scatterpolargl\": [{\"marker\": {\"colorbar\": {\"outlinewidth\": 0, \"ticks\": \"\"}}, \"type\": \"scatterpolargl\"}], \"scatterternary\": [{\"marker\": {\"colorbar\": {\"outlinewidth\": 0, \"ticks\": \"\"}}, \"type\": \"scatterternary\"}], \"surface\": [{\"colorbar\": {\"outlinewidth\": 0, \"ticks\": \"\"}, \"colorscale\": [[0.0, \"#0d0887\"], [0.1111111111111111, \"#46039f\"], [0.2222222222222222, \"#7201a8\"], [0.3333333333333333, \"#9c179e\"], [0.4444444444444444, \"#bd3786\"], [0.5555555555555556, \"#d8576b\"], [0.6666666666666666, \"#ed7953\"], [0.7777777777777778, \"#fb9f3a\"], [0.8888888888888888, \"#fdca26\"], [1.0, \"#f0f921\"]], \"type\": \"surface\"}], \"table\": [{\"cells\": {\"fill\": {\"color\": \"#EBF0F8\"}, \"line\": {\"color\": \"white\"}}, \"header\": {\"fill\": {\"color\": \"#C8D4E3\"}, \"line\": {\"color\": \"white\"}}, \"type\": \"table\"}]}, \"layout\": {\"annotationdefaults\": {\"arrowcolor\": \"#2a3f5f\", \"arrowhead\": 0, \"arrowwidth\": 1}, \"coloraxis\": {\"colorbar\": {\"outlinewidth\": 0, \"ticks\": \"\"}}, \"colorscale\": {\"diverging\": [[0, \"#8e0152\"], [0.1, \"#c51b7d\"], [0.2, \"#de77ae\"], [0.3, \"#f1b6da\"], [0.4, \"#fde0ef\"], [0.5, \"#f7f7f7\"], [0.6, \"#e6f5d0\"], [0.7, \"#b8e186\"], [0.8, \"#7fbc41\"], [0.9, \"#4d9221\"], [1, \"#276419\"]], \"sequential\": [[0.0, \"#0d0887\"], [0.1111111111111111, \"#46039f\"], [0.2222222222222222, \"#7201a8\"], [0.3333333333333333, \"#9c179e\"], [0.4444444444444444, \"#bd3786\"], [0.5555555555555556, \"#d8576b\"], [0.6666666666666666, \"#ed7953\"], [0.7777777777777778, \"#fb9f3a\"], [0.8888888888888888, \"#fdca26\"], [1.0, \"#f0f921\"]], \"sequentialminus\": [[0.0, \"#0d0887\"], [0.1111111111111111, \"#46039f\"], [0.2222222222222222, \"#7201a8\"], [0.3333333333333333, \"#9c179e\"], [0.4444444444444444, \"#bd3786\"], [0.5555555555555556, \"#d8576b\"], [0.6666666666666666, \"#ed7953\"], [0.7777777777777778, \"#fb9f3a\"], [0.8888888888888888, \"#fdca26\"], [1.0, \"#f0f921\"]]}, \"colorway\": [\"#636efa\", \"#EF553B\", \"#00cc96\", \"#ab63fa\", \"#FFA15A\", \"#19d3f3\", \"#FF6692\", \"#B6E880\", \"#FF97FF\", \"#FECB52\"], \"font\": {\"color\": \"#2a3f5f\"}, \"geo\": {\"bgcolor\": \"white\", \"lakecolor\": \"white\", \"landcolor\": \"#E5ECF6\", \"showlakes\": true, \"showland\": true, \"subunitcolor\": \"white\"}, \"hoverlabel\": {\"align\": \"left\"}, \"hovermode\": \"closest\", \"mapbox\": {\"style\": \"light\"}, \"paper_bgcolor\": \"white\", \"plot_bgcolor\": \"#E5ECF6\", \"polar\": {\"angularaxis\": {\"gridcolor\": \"white\", \"linecolor\": \"white\", \"ticks\": \"\"}, \"bgcolor\": \"#E5ECF6\", \"radialaxis\": {\"gridcolor\": \"white\", \"linecolor\": \"white\", \"ticks\": \"\"}}, \"scene\": {\"xaxis\": {\"backgroundcolor\": \"#E5ECF6\", \"gridcolor\": \"white\", \"gridwidth\": 2, \"linecolor\": \"white\", \"showbackground\": true, \"ticks\": \"\", \"zerolinecolor\": \"white\"}, \"yaxis\": {\"backgroundcolor\": \"#E5ECF6\", \"gridcolor\": \"white\", \"gridwidth\": 2, \"linecolor\": \"white\", \"showbackground\": true, \"ticks\": \"\", \"zerolinecolor\": \"white\"}, \"zaxis\": {\"backgroundcolor\": \"#E5ECF6\", \"gridcolor\": \"white\", \"gridwidth\": 2, \"linecolor\": \"white\", \"showbackground\": true, \"ticks\": \"\", \"zerolinecolor\": \"white\"}}, \"shapedefaults\": {\"line\": {\"color\": \"#2a3f5f\"}}, \"ternary\": {\"aaxis\": {\"gridcolor\": \"white\", \"linecolor\": \"white\", \"ticks\": \"\"}, \"baxis\": {\"gridcolor\": \"white\", \"linecolor\": \"white\", \"ticks\": \"\"}, \"bgcolor\": \"#E5ECF6\", \"caxis\": {\"gridcolor\": \"white\", \"linecolor\": \"white\", \"ticks\": \"\"}}, \"title\": {\"x\": 0.05}, \"xaxis\": {\"automargin\": true, \"gridcolor\": \"white\", \"linecolor\": \"white\", \"ticks\": \"\", \"title\": {\"standoff\": 15}, \"zerolinecolor\": \"white\", \"zerolinewidth\": 2}, \"yaxis\": {\"automargin\": true, \"gridcolor\": \"white\", \"linecolor\": \"white\", \"ticks\": \"\", \"title\": {\"standoff\": 15}, \"zerolinecolor\": \"white\", \"zerolinewidth\": 2}}}, \"title\": {\"text\": \"Tipos de usos dos produtos madereiros\"}},\n",
              "                        {\"responsive\": true}\n",
              "                    ).then(function(){\n",
              "                            \n",
              "var gd = document.getElementById('24ebfa47-01d7-45cd-bb86-02d7b3ac4be2');\n",
              "var x = new MutationObserver(function (mutations, observer) {{\n",
              "        var display = window.getComputedStyle(gd).display;\n",
              "        if (!display || display === 'none') {{\n",
              "            console.log([gd, 'removed!']);\n",
              "            Plotly.purge(gd);\n",
              "            observer.disconnect();\n",
              "        }}\n",
              "}});\n",
              "\n",
              "// Listen for the removal of the full notebook cells\n",
              "var notebookContainer = gd.closest('#notebook-container');\n",
              "if (notebookContainer) {{\n",
              "    x.observe(notebookContainer, {childList: true});\n",
              "}}\n",
              "\n",
              "// Listen for the clearing of the current output cell\n",
              "var outputEl = gd.closest('.output');\n",
              "if (outputEl) {{\n",
              "    x.observe(outputEl, {childList: true});\n",
              "}}\n",
              "\n",
              "                        })\n",
              "                };\n",
              "                \n",
              "            </script>\n",
              "        </div>\n",
              "</body>\n",
              "</html>"
            ]
          },
          "metadata": {
            "tags": []
          }
        }
      ]
    },
    {
      "cell_type": "code",
      "metadata": {
        "colab": {
          "base_uri": "https://localhost:8080/",
          "height": 542
        },
        "id": "sZww7gciF-Rn",
        "outputId": "153495c8-f03e-4e5d-814a-728fe14fc29c"
      },
      "source": [
        "fig = px.histogram(df_madereiro, x=df_madereiro.query(\"Ano_PEVS > 2000\")[\"Tipo_de_Uso\"])\n",
        "fig.show()"
      ],
      "execution_count": 155,
      "outputs": [
        {
          "output_type": "display_data",
          "data": {
            "text/html": [
              "<html>\n",
              "<head><meta charset=\"utf-8\" /></head>\n",
              "<body>\n",
              "    <div>\n",
              "            <script src=\"https://cdnjs.cloudflare.com/ajax/libs/mathjax/2.7.5/MathJax.js?config=TeX-AMS-MML_SVG\"></script><script type=\"text/javascript\">if (window.MathJax) {MathJax.Hub.Config({SVG: {font: \"STIX-Web\"}});}</script>\n",
              "                <script type=\"text/javascript\">window.PlotlyConfig = {MathJaxConfig: 'local'};</script>\n",
              "        <script src=\"https://cdn.plot.ly/plotly-latest.min.js\"></script>    \n",
              "            <div id=\"cfb69116-dd71-46e7-af13-fbf5e75de409\" class=\"plotly-graph-div\" style=\"height:525px; width:100%;\"></div>\n",
              "            <script type=\"text/javascript\">\n",
              "                \n",
              "                    window.PLOTLYENV=window.PLOTLYENV || {};\n",
              "                    \n",
              "                if (document.getElementById(\"cfb69116-dd71-46e7-af13-fbf5e75de409\")) {\n",
              "                    Plotly.newPlot(\n",
              "                        'cfb69116-dd71-46e7-af13-fbf5e75de409',\n",
              "                        [{\"alignmentgroup\": \"True\", \"bingroup\": \"x\", \"hoverlabel\": {\"namelength\": 0}, \"hovertemplate\": \"x=%{x}<br>count=%{y}\", \"legendgroup\": \"\", \"marker\": {\"color\": \"#636efa\"}, \"name\": \"\", \"offsetgroup\": \"\", \"orientation\": \"v\", \"showlegend\": false, \"type\": \"histogram\", \"x\": [\"Madeira para Combust\\u00edvel\", \"Madeira para Combust\\u00edvel\", \"Madeira para Combust\\u00edvel\", \"Madeira para Combust\\u00edvel\", \"Madeira para Combust\\u00edvel\", \"Madeira para Combust\\u00edvel\", \"Madeira para Combust\\u00edvel\", \"Madeira para Combust\\u00edvel\", \"Madeira para Combust\\u00edvel\", \"Madeira para Combust\\u00edvel\", \"Madeira para Combust\\u00edvel\", \"Madeira para Combust\\u00edvel\", \"Madeira para Combust\\u00edvel\", \"Madeira para Combust\\u00edvel\", \"Madeira para Combust\\u00edvel\", \"Madeira para Combust\\u00edvel\", \"Madeira para Combust\\u00edvel\", \"Madeira para Combust\\u00edvel\", \"Madeira para Combust\\u00edvel\", \"Madeira para Combust\\u00edvel\", \"Madeira para Combust\\u00edvel\", \"Madeira para Combust\\u00edvel\", \"Madeira para Combust\\u00edvel\", \"Madeira para Combust\\u00edvel\", \"Madeira para Combust\\u00edvel\", \"Madeira para Combust\\u00edvel\", \"Madeira para Combust\\u00edvel\", \"Madeira para Combust\\u00edvel\", \"Madeira para Ind\\u00fastria\", \"Madeira para Ind\\u00fastria\", \"Madeira para Ind\\u00fastria\", \"Madeira para Ind\\u00fastria\", \"Madeira para Ind\\u00fastria\", \"Madeira para Ind\\u00fastria\", \"Madeira para Ind\\u00fastria\", \"Madeira para Ind\\u00fastria\", \"Madeira para Ind\\u00fastria\", \"Madeira para Ind\\u00fastria\", \"Madeira para Ind\\u00fastria\", \"Madeira para Ind\\u00fastria\", \"Madeira para Ind\\u00fastria\", \"Madeira para Ind\\u00fastria\", \"N\\u00f3 de pinho\", \"N\\u00f3 de pinho\", \"N\\u00f3 de pinho\", \"N\\u00f3 de pinho\", \"N\\u00f3 de pinho\", \"N\\u00f3 de pinho\", \"N\\u00f3 de pinho\", \"N\\u00f3 de pinho\", \"N\\u00f3 de pinho\", \"N\\u00f3 de pinho\", \"N\\u00f3 de pinho\", \"N\\u00f3 de pinho\", \"N\\u00f3 de pinho\", \"N\\u00f3 de pinho\", \"\\u00c1rvores abatidas\", \"\\u00c1rvores abatidas\", \"\\u00c1rvores abatidas\", \"\\u00c1rvores abatidas\", \"\\u00c1rvores abatidas\", \"\\u00c1rvores abatidas\", \"\\u00c1rvores abatidas\", \"\\u00c1rvores abatidas\", \"\\u00c1rvores abatidas\", \"\\u00c1rvores abatidas\", \"\\u00c1rvores abatidas\", \"\\u00c1rvores abatidas\", \"\\u00c1rvores abatidas\", \"\\u00c1rvores abatidas\", \"Madeira para Ind\\u00fastria - subdivis\\u00e3o\", \"Madeira para Ind\\u00fastria - subdivis\\u00e3o\", \"Madeira para Ind\\u00fastria - subdivis\\u00e3o\", \"Madeira para Ind\\u00fastria - subdivis\\u00e3o\", \"Madeira para Ind\\u00fastria - subdivis\\u00e3o\", \"Madeira para Ind\\u00fastria - subdivis\\u00e3o\", \"Madeira para Ind\\u00fastria - subdivis\\u00e3o\", \"Madeira para Ind\\u00fastria - subdivis\\u00e3o\", \"Madeira para Ind\\u00fastria - subdivis\\u00e3o\", \"Madeira para Ind\\u00fastria - subdivis\\u00e3o\", \"Madeira para Ind\\u00fastria - subdivis\\u00e3o\", \"Madeira para Ind\\u00fastria - subdivis\\u00e3o\", \"Madeira para Ind\\u00fastria - subdivis\\u00e3o\", \"Madeira para Ind\\u00fastria - subdivis\\u00e3o\", \"Madeira para Combust\\u00edvel\", \"Madeira para Combust\\u00edvel\", \"Madeira para Combust\\u00edvel\", \"Madeira para Combust\\u00edvel\", \"Madeira para Combust\\u00edvel\", \"Madeira para Combust\\u00edvel\", \"Madeira para Combust\\u00edvel\", \"Madeira para Combust\\u00edvel\", \"Madeira para Combust\\u00edvel\", \"Madeira para Combust\\u00edvel\", \"Madeira para Combust\\u00edvel\", \"Madeira para Combust\\u00edvel\", \"Madeira para Combust\\u00edvel\", \"Madeira para Combust\\u00edvel\", \"Madeira para Combust\\u00edvel - Subdivis\\u00e3o\", \"Madeira para Combust\\u00edvel - Subdivis\\u00e3o\", \"Madeira para Combust\\u00edvel - Subdivis\\u00e3o\", \"Madeira para Combust\\u00edvel - Subdivis\\u00e3o\", \"Madeira para Combust\\u00edvel - Subdivis\\u00e3o\", \"Madeira para Combust\\u00edvel - Subdivis\\u00e3o\", \"Madeira para Combust\\u00edvel - Subdivis\\u00e3o\", \"Madeira para Combust\\u00edvel - Subdivis\\u00e3o\", \"Madeira para Combust\\u00edvel - Subdivis\\u00e3o\", \"Madeira para Combust\\u00edvel - Subdivis\\u00e3o\", \"Madeira para Combust\\u00edvel - Subdivis\\u00e3o\", \"Madeira para Combust\\u00edvel - Subdivis\\u00e3o\", \"Madeira para Combust\\u00edvel - Subdivis\\u00e3o\", \"Madeira para Combust\\u00edvel - Subdivis\\u00e3o\", \"Madeira para Combust\\u00edvel - Subdivis\\u00e3o\", \"Madeira para Combust\\u00edvel - Subdivis\\u00e3o\", \"Madeira para Combust\\u00edvel - Subdivis\\u00e3o\", \"Madeira para Combust\\u00edvel - Subdivis\\u00e3o\", \"Madeira para Combust\\u00edvel - Subdivis\\u00e3o\", \"Madeira para Combust\\u00edvel - Subdivis\\u00e3o\", \"Madeira para Combust\\u00edvel - Subdivis\\u00e3o\", \"Madeira para Combust\\u00edvel - Subdivis\\u00e3o\", \"Madeira para Combust\\u00edvel - Subdivis\\u00e3o\", \"Madeira para Combust\\u00edvel - Subdivis\\u00e3o\", \"Madeira para Combust\\u00edvel - Subdivis\\u00e3o\", \"Madeira para Combust\\u00edvel - Subdivis\\u00e3o\", \"Madeira para Combust\\u00edvel - Subdivis\\u00e3o\", \"Madeira para Combust\\u00edvel - Subdivis\\u00e3o\", \"Madeira para Combust\\u00edvel - Subdivis\\u00e3o\", \"Madeira para Combust\\u00edvel - Subdivis\\u00e3o\", \"Madeira para Combust\\u00edvel - Subdivis\\u00e3o\", \"Madeira para Combust\\u00edvel - Subdivis\\u00e3o\", \"Madeira para Combust\\u00edvel - Subdivis\\u00e3o\", \"Madeira para Combust\\u00edvel - Subdivis\\u00e3o\", \"Madeira para Combust\\u00edvel - Subdivis\\u00e3o\", \"Madeira para Combust\\u00edvel - Subdivis\\u00e3o\", \"Madeira para Combust\\u00edvel - Subdivis\\u00e3o\", \"Madeira para Combust\\u00edvel - Subdivis\\u00e3o\", \"Madeira para Combust\\u00edvel - Subdivis\\u00e3o\", \"Madeira para Combust\\u00edvel - Subdivis\\u00e3o\", \"Madeira para Combust\\u00edvel - Subdivis\\u00e3o\", \"Madeira para Combust\\u00edvel - Subdivis\\u00e3o\", \"Madeira para Combust\\u00edvel\", \"Madeira para Combust\\u00edvel\", \"Madeira para Combust\\u00edvel\", \"Madeira para Combust\\u00edvel\", \"Madeira para Combust\\u00edvel\", \"Madeira para Combust\\u00edvel\", \"Madeira para Combust\\u00edvel\", \"Madeira para Combust\\u00edvel\", \"Madeira para Combust\\u00edvel\", \"Madeira para Combust\\u00edvel\", \"Madeira para Combust\\u00edvel\", \"Madeira para Combust\\u00edvel\", \"Madeira para Combust\\u00edvel\", \"Madeira para Combust\\u00edvel\", \"Madeira para Combust\\u00edvel - Subdivis\\u00e3o\", \"Madeira para Combust\\u00edvel - Subdivis\\u00e3o\", \"Madeira para Combust\\u00edvel - Subdivis\\u00e3o\", \"Madeira para Combust\\u00edvel - Subdivis\\u00e3o\", \"Madeira para Combust\\u00edvel - Subdivis\\u00e3o\", \"Madeira para Combust\\u00edvel - Subdivis\\u00e3o\", \"Madeira para Combust\\u00edvel - Subdivis\\u00e3o\", \"Madeira para Combust\\u00edvel - Subdivis\\u00e3o\", \"Madeira para Combust\\u00edvel - Subdivis\\u00e3o\", \"Madeira para Combust\\u00edvel - Subdivis\\u00e3o\", \"Madeira para Combust\\u00edvel - Subdivis\\u00e3o\", \"Madeira para Combust\\u00edvel - Subdivis\\u00e3o\", \"Madeira para Combust\\u00edvel - Subdivis\\u00e3o\", \"Madeira para Combust\\u00edvel - Subdivis\\u00e3o\", \"Madeira para Combust\\u00edvel - Subdivis\\u00e3o\", \"Madeira para Combust\\u00edvel - Subdivis\\u00e3o\", \"Madeira para Combust\\u00edvel - Subdivis\\u00e3o\", \"Madeira para Combust\\u00edvel - Subdivis\\u00e3o\", \"Madeira para Combust\\u00edvel - Subdivis\\u00e3o\", \"Madeira para Combust\\u00edvel - Subdivis\\u00e3o\", \"Madeira para Combust\\u00edvel - Subdivis\\u00e3o\", \"Madeira para Combust\\u00edvel - Subdivis\\u00e3o\", \"Madeira para Combust\\u00edvel - Subdivis\\u00e3o\", \"Madeira para Combust\\u00edvel - Subdivis\\u00e3o\", \"Madeira para Combust\\u00edvel - Subdivis\\u00e3o\", \"Madeira para Combust\\u00edvel - Subdivis\\u00e3o\", \"Madeira para Combust\\u00edvel - Subdivis\\u00e3o\", \"Madeira para Combust\\u00edvel - Subdivis\\u00e3o\", \"Madeira para Combust\\u00edvel - Subdivis\\u00e3o\", \"Madeira para Combust\\u00edvel - Subdivis\\u00e3o\", \"Madeira para Combust\\u00edvel - Subdivis\\u00e3o\", \"Madeira para Combust\\u00edvel - Subdivis\\u00e3o\", \"Madeira para Combust\\u00edvel - Subdivis\\u00e3o\", \"Madeira para Combust\\u00edvel - Subdivis\\u00e3o\", \"Madeira para Combust\\u00edvel - Subdivis\\u00e3o\", \"Madeira para Combust\\u00edvel - Subdivis\\u00e3o\", \"Madeira para Combust\\u00edvel - Subdivis\\u00e3o\", \"Madeira para Combust\\u00edvel - Subdivis\\u00e3o\", \"Madeira para Combust\\u00edvel - Subdivis\\u00e3o\", \"Madeira para Combust\\u00edvel - Subdivis\\u00e3o\", \"Madeira para Combust\\u00edvel - Subdivis\\u00e3o\", \"Madeira para Combust\\u00edvel - Subdivis\\u00e3o\", \"Madeira para Ind\\u00fastria\", \"Madeira para Ind\\u00fastria\", \"Madeira para Ind\\u00fastria\", \"Madeira para Ind\\u00fastria\", \"Madeira para Ind\\u00fastria\", \"Madeira para Ind\\u00fastria\", \"Madeira para Ind\\u00fastria\", \"Madeira para Ind\\u00fastria\", \"Madeira para Ind\\u00fastria\", \"Madeira para Ind\\u00fastria\", \"Madeira para Ind\\u00fastria\", \"Madeira para Ind\\u00fastria\", \"Madeira para Ind\\u00fastria\", \"Madeira para Ind\\u00fastria\", \"Madeira para Ind\\u00fastria - subdivis\\u00e3o\", \"Madeira para Ind\\u00fastria - subdivis\\u00e3o\", \"Madeira para Ind\\u00fastria - subdivis\\u00e3o\", \"Madeira para Ind\\u00fastria - subdivis\\u00e3o\", \"Madeira para Ind\\u00fastria - subdivis\\u00e3o\", \"Madeira para Ind\\u00fastria - subdivis\\u00e3o\", \"Madeira para Ind\\u00fastria - subdivis\\u00e3o\", \"Madeira para Ind\\u00fastria - subdivis\\u00e3o\", \"Madeira para Ind\\u00fastria - subdivis\\u00e3o\", \"Madeira para Ind\\u00fastria - subdivis\\u00e3o\", \"Madeira para Ind\\u00fastria - subdivis\\u00e3o\", \"Madeira para Ind\\u00fastria - subdivis\\u00e3o\", \"Madeira para Ind\\u00fastria - subdivis\\u00e3o\", \"Madeira para Ind\\u00fastria - subdivis\\u00e3o\", \"Madeira para Ind\\u00fastria - Subdivis\\u00e3o II\", \"Madeira para Ind\\u00fastria - Subdivis\\u00e3o II\", \"Madeira para Ind\\u00fastria - Subdivis\\u00e3o II\", \"Madeira para Ind\\u00fastria - Subdivis\\u00e3o II\", \"Madeira para Ind\\u00fastria - Subdivis\\u00e3o II\", \"Madeira para Ind\\u00fastria - Subdivis\\u00e3o II\", \"Madeira para Ind\\u00fastria - Subdivis\\u00e3o II\", \"Madeira para Ind\\u00fastria - Subdivis\\u00e3o II\", \"Madeira para Ind\\u00fastria - Subdivis\\u00e3o II\", \"Madeira para Ind\\u00fastria - Subdivis\\u00e3o II\", \"Madeira para Ind\\u00fastria - Subdivis\\u00e3o II\", \"Madeira para Ind\\u00fastria - Subdivis\\u00e3o II\", \"Madeira para Ind\\u00fastria - Subdivis\\u00e3o II\", \"Madeira para Ind\\u00fastria - Subdivis\\u00e3o II\", \"Madeira para Ind\\u00fastria - Subdivis\\u00e3o II\", \"Madeira para Ind\\u00fastria - Subdivis\\u00e3o II\", \"Madeira para Ind\\u00fastria - Subdivis\\u00e3o II\", \"Madeira para Ind\\u00fastria - Subdivis\\u00e3o II\", \"Madeira para Ind\\u00fastria - Subdivis\\u00e3o II\", \"Madeira para Ind\\u00fastria - Subdivis\\u00e3o II\", \"Madeira para Ind\\u00fastria - Subdivis\\u00e3o II\", \"Madeira para Ind\\u00fastria - Subdivis\\u00e3o II\", \"Madeira para Ind\\u00fastria - Subdivis\\u00e3o II\", \"Madeira para Ind\\u00fastria - Subdivis\\u00e3o II\", \"Madeira para Ind\\u00fastria - Subdivis\\u00e3o II\", \"Madeira para Ind\\u00fastria - Subdivis\\u00e3o II\", \"Madeira para Ind\\u00fastria - Subdivis\\u00e3o II\", \"Madeira para Ind\\u00fastria - Subdivis\\u00e3o II\", \"Madeira para Ind\\u00fastria - Subdivis\\u00e3o II\", \"Madeira para Ind\\u00fastria - Subdivis\\u00e3o II\", \"Madeira para Ind\\u00fastria - Subdivis\\u00e3o II\", \"Madeira para Ind\\u00fastria - Subdivis\\u00e3o II\", \"Madeira para Ind\\u00fastria - Subdivis\\u00e3o II\", \"Madeira para Ind\\u00fastria - Subdivis\\u00e3o II\", \"Madeira para Ind\\u00fastria - Subdivis\\u00e3o II\", \"Madeira para Ind\\u00fastria - Subdivis\\u00e3o II\", \"Madeira para Ind\\u00fastria - Subdivis\\u00e3o II\", \"Madeira para Ind\\u00fastria - Subdivis\\u00e3o II\", \"Madeira para Ind\\u00fastria - Subdivis\\u00e3o II\", \"Madeira para Ind\\u00fastria - Subdivis\\u00e3o II\", \"Madeira para Ind\\u00fastria - Subdivis\\u00e3o II\", \"Madeira para Ind\\u00fastria - Subdivis\\u00e3o II\", \"Madeira para Ind\\u00fastria - subdivis\\u00e3o\", \"Madeira para Ind\\u00fastria - subdivis\\u00e3o\", \"Madeira para Ind\\u00fastria - subdivis\\u00e3o\", \"Madeira para Ind\\u00fastria - subdivis\\u00e3o\", \"Madeira para Ind\\u00fastria - subdivis\\u00e3o\", \"Madeira para Ind\\u00fastria - subdivis\\u00e3o\", \"Madeira para Ind\\u00fastria - subdivis\\u00e3o\", \"Madeira para Ind\\u00fastria - subdivis\\u00e3o\", \"Madeira para Ind\\u00fastria - subdivis\\u00e3o\", \"Madeira para Ind\\u00fastria - subdivis\\u00e3o\", \"Madeira para Ind\\u00fastria - subdivis\\u00e3o\", \"Madeira para Ind\\u00fastria - subdivis\\u00e3o\", \"Madeira para Ind\\u00fastria - subdivis\\u00e3o\", \"Madeira para Ind\\u00fastria - subdivis\\u00e3o\", \"Madeira para Ind\\u00fastria - Subdivis\\u00e3o II\", \"Madeira para Ind\\u00fastria - Subdivis\\u00e3o II\", \"Madeira para Ind\\u00fastria - Subdivis\\u00e3o II\", \"Madeira para Ind\\u00fastria - Subdivis\\u00e3o II\", \"Madeira para Ind\\u00fastria - Subdivis\\u00e3o II\", \"Madeira para Ind\\u00fastria - Subdivis\\u00e3o II\", \"Madeira para Ind\\u00fastria - Subdivis\\u00e3o II\", \"Madeira para Ind\\u00fastria - Subdivis\\u00e3o II\", \"Madeira para Ind\\u00fastria - Subdivis\\u00e3o II\", \"Madeira para Ind\\u00fastria - Subdivis\\u00e3o II\", \"Madeira para Ind\\u00fastria - Subdivis\\u00e3o II\", \"Madeira para Ind\\u00fastria - Subdivis\\u00e3o II\", \"Madeira para Ind\\u00fastria - Subdivis\\u00e3o II\", \"Madeira para Ind\\u00fastria - Subdivis\\u00e3o II\", \"Madeira para Ind\\u00fastria - Subdivis\\u00e3o II\", \"Madeira para Ind\\u00fastria - Subdivis\\u00e3o II\", \"Madeira para Ind\\u00fastria - Subdivis\\u00e3o II\", \"Madeira para Ind\\u00fastria - Subdivis\\u00e3o II\", \"Madeira para Ind\\u00fastria - Subdivis\\u00e3o II\", \"Madeira para Ind\\u00fastria - Subdivis\\u00e3o II\", \"Madeira para Ind\\u00fastria - Subdivis\\u00e3o II\", \"Madeira para Ind\\u00fastria - Subdivis\\u00e3o II\", \"Madeira para Ind\\u00fastria - Subdivis\\u00e3o II\", \"Madeira para Ind\\u00fastria - Subdivis\\u00e3o II\", \"Madeira para Ind\\u00fastria - Subdivis\\u00e3o II\", \"Madeira para Ind\\u00fastria - Subdivis\\u00e3o II\", \"Madeira para Ind\\u00fastria - Subdivis\\u00e3o II\", \"Madeira para Ind\\u00fastria - Subdivis\\u00e3o II\", \"Madeira para Ind\\u00fastria - Subdivis\\u00e3o II\", \"Madeira para Ind\\u00fastria - Subdivis\\u00e3o II\", \"Madeira para Ind\\u00fastria - Subdivis\\u00e3o II\", \"Madeira para Ind\\u00fastria - Subdivis\\u00e3o II\", \"Madeira para Ind\\u00fastria - Subdivis\\u00e3o II\", \"Madeira para Ind\\u00fastria - Subdivis\\u00e3o II\", \"Madeira para Ind\\u00fastria - Subdivis\\u00e3o II\", \"Madeira para Ind\\u00fastria - Subdivis\\u00e3o II\", \"Madeira para Ind\\u00fastria - Subdivis\\u00e3o II\", \"Madeira para Ind\\u00fastria - Subdivis\\u00e3o II\", \"Madeira para Ind\\u00fastria - Subdivis\\u00e3o II\", \"Madeira para Ind\\u00fastria - Subdivis\\u00e3o II\", \"Madeira para Ind\\u00fastria - Subdivis\\u00e3o II\", \"Madeira para Ind\\u00fastria - Subdivis\\u00e3o II\", \"Madeira para Combust\\u00edvel\", \"Madeira para Combust\\u00edvel\", \"Madeira para Ind\\u00fastria\", \"N\\u00f3 de pinho\", \"\\u00c1rvores abatidas\", \"Madeira para Ind\\u00fastria - subdivis\\u00e3o\", \"Madeira para Combust\\u00edvel\", \"Madeira para Combust\\u00edvel - Subdivis\\u00e3o\", \"Madeira para Combust\\u00edvel - Subdivis\\u00e3o\", \"Madeira para Combust\\u00edvel - Subdivis\\u00e3o\", \"Madeira para Combust\\u00edvel\", \"Madeira para Combust\\u00edvel - Subdivis\\u00e3o\", \"Madeira para Combust\\u00edvel - Subdivis\\u00e3o\", \"Madeira para Combust\\u00edvel - Subdivis\\u00e3o\", \"Madeira para Ind\\u00fastria\", \"Madeira para Ind\\u00fastria - subdivis\\u00e3o\", \"Madeira para Ind\\u00fastria - Subdivis\\u00e3o II\", \"Madeira para Ind\\u00fastria - Subdivis\\u00e3o II\", \"Madeira para Ind\\u00fastria - Subdivis\\u00e3o II\", \"Madeira para Ind\\u00fastria - subdivis\\u00e3o\", \"Madeira para Ind\\u00fastria - Subdivis\\u00e3o II\", \"Madeira para Ind\\u00fastria - Subdivis\\u00e3o II\", \"Madeira para Ind\\u00fastria - Subdivis\\u00e3o II\", \"Madeira para Combust\\u00edvel\", \"Madeira para Combust\\u00edvel\", \"Madeira para Ind\\u00fastria\", \"N\\u00f3 de pinho\", \"\\u00c1rvores abatidas\", \"Madeira para Ind\\u00fastria - subdivis\\u00e3o\", \"Madeira para Combust\\u00edvel\", \"Madeira para Combust\\u00edvel - Subdivis\\u00e3o\", \"Madeira para Combust\\u00edvel - Subdivis\\u00e3o\", \"Madeira para Combust\\u00edvel - Subdivis\\u00e3o\", \"Madeira para Combust\\u00edvel\", \"Madeira para Combust\\u00edvel - Subdivis\\u00e3o\", \"Madeira para Combust\\u00edvel - Subdivis\\u00e3o\", \"Madeira para Combust\\u00edvel - Subdivis\\u00e3o\", \"Madeira para Ind\\u00fastria\", \"Madeira para Ind\\u00fastria - subdivis\\u00e3o\", \"Madeira para Ind\\u00fastria - Subdivis\\u00e3o II\", \"Madeira para Ind\\u00fastria - Subdivis\\u00e3o II\", \"Madeira para Ind\\u00fastria - Subdivis\\u00e3o II\", \"Madeira para Ind\\u00fastria - subdivis\\u00e3o\", \"Madeira para Ind\\u00fastria - Subdivis\\u00e3o II\", \"Madeira para Ind\\u00fastria - Subdivis\\u00e3o II\", \"Madeira para Ind\\u00fastria - Subdivis\\u00e3o II\"], \"xaxis\": \"x\", \"yaxis\": \"y\"}],\n",
              "                        {\"barmode\": \"relative\", \"legend\": {\"tracegroupgap\": 0}, \"margin\": {\"t\": 60}, \"template\": {\"data\": {\"bar\": [{\"error_x\": {\"color\": \"#2a3f5f\"}, \"error_y\": {\"color\": \"#2a3f5f\"}, \"marker\": {\"line\": {\"color\": \"#E5ECF6\", \"width\": 0.5}}, \"type\": \"bar\"}], \"barpolar\": [{\"marker\": {\"line\": {\"color\": \"#E5ECF6\", \"width\": 0.5}}, \"type\": \"barpolar\"}], \"carpet\": [{\"aaxis\": {\"endlinecolor\": \"#2a3f5f\", \"gridcolor\": \"white\", \"linecolor\": \"white\", \"minorgridcolor\": \"white\", \"startlinecolor\": \"#2a3f5f\"}, \"baxis\": {\"endlinecolor\": \"#2a3f5f\", \"gridcolor\": \"white\", \"linecolor\": \"white\", \"minorgridcolor\": \"white\", \"startlinecolor\": \"#2a3f5f\"}, \"type\": \"carpet\"}], \"choropleth\": [{\"colorbar\": {\"outlinewidth\": 0, \"ticks\": \"\"}, \"type\": \"choropleth\"}], \"contour\": [{\"colorbar\": {\"outlinewidth\": 0, \"ticks\": \"\"}, \"colorscale\": [[0.0, \"#0d0887\"], [0.1111111111111111, \"#46039f\"], [0.2222222222222222, \"#7201a8\"], [0.3333333333333333, \"#9c179e\"], [0.4444444444444444, \"#bd3786\"], [0.5555555555555556, \"#d8576b\"], [0.6666666666666666, \"#ed7953\"], [0.7777777777777778, \"#fb9f3a\"], [0.8888888888888888, \"#fdca26\"], [1.0, \"#f0f921\"]], \"type\": \"contour\"}], \"contourcarpet\": [{\"colorbar\": {\"outlinewidth\": 0, \"ticks\": \"\"}, \"type\": \"contourcarpet\"}], \"heatmap\": [{\"colorbar\": {\"outlinewidth\": 0, \"ticks\": \"\"}, \"colorscale\": [[0.0, \"#0d0887\"], [0.1111111111111111, \"#46039f\"], [0.2222222222222222, \"#7201a8\"], [0.3333333333333333, \"#9c179e\"], [0.4444444444444444, \"#bd3786\"], [0.5555555555555556, \"#d8576b\"], [0.6666666666666666, \"#ed7953\"], [0.7777777777777778, \"#fb9f3a\"], [0.8888888888888888, \"#fdca26\"], [1.0, \"#f0f921\"]], \"type\": \"heatmap\"}], \"heatmapgl\": [{\"colorbar\": {\"outlinewidth\": 0, \"ticks\": \"\"}, \"colorscale\": [[0.0, \"#0d0887\"], [0.1111111111111111, \"#46039f\"], [0.2222222222222222, \"#7201a8\"], [0.3333333333333333, \"#9c179e\"], [0.4444444444444444, \"#bd3786\"], [0.5555555555555556, \"#d8576b\"], [0.6666666666666666, \"#ed7953\"], [0.7777777777777778, \"#fb9f3a\"], [0.8888888888888888, \"#fdca26\"], [1.0, \"#f0f921\"]], \"type\": \"heatmapgl\"}], \"histogram\": [{\"marker\": {\"colorbar\": {\"outlinewidth\": 0, \"ticks\": \"\"}}, \"type\": \"histogram\"}], \"histogram2d\": [{\"colorbar\": {\"outlinewidth\": 0, \"ticks\": \"\"}, \"colorscale\": [[0.0, \"#0d0887\"], [0.1111111111111111, \"#46039f\"], [0.2222222222222222, \"#7201a8\"], [0.3333333333333333, \"#9c179e\"], [0.4444444444444444, \"#bd3786\"], [0.5555555555555556, \"#d8576b\"], [0.6666666666666666, \"#ed7953\"], [0.7777777777777778, \"#fb9f3a\"], [0.8888888888888888, \"#fdca26\"], [1.0, \"#f0f921\"]], \"type\": \"histogram2d\"}], \"histogram2dcontour\": [{\"colorbar\": {\"outlinewidth\": 0, \"ticks\": \"\"}, \"colorscale\": [[0.0, \"#0d0887\"], [0.1111111111111111, \"#46039f\"], [0.2222222222222222, \"#7201a8\"], [0.3333333333333333, \"#9c179e\"], [0.4444444444444444, \"#bd3786\"], [0.5555555555555556, \"#d8576b\"], [0.6666666666666666, \"#ed7953\"], [0.7777777777777778, \"#fb9f3a\"], [0.8888888888888888, \"#fdca26\"], [1.0, \"#f0f921\"]], \"type\": \"histogram2dcontour\"}], \"mesh3d\": [{\"colorbar\": {\"outlinewidth\": 0, \"ticks\": \"\"}, \"type\": \"mesh3d\"}], \"parcoords\": [{\"line\": {\"colorbar\": {\"outlinewidth\": 0, \"ticks\": \"\"}}, \"type\": \"parcoords\"}], \"pie\": [{\"automargin\": true, \"type\": \"pie\"}], \"scatter\": [{\"marker\": {\"colorbar\": {\"outlinewidth\": 0, \"ticks\": \"\"}}, \"type\": \"scatter\"}], \"scatter3d\": [{\"line\": {\"colorbar\": {\"outlinewidth\": 0, \"ticks\": \"\"}}, \"marker\": {\"colorbar\": {\"outlinewidth\": 0, \"ticks\": \"\"}}, \"type\": \"scatter3d\"}], \"scattercarpet\": [{\"marker\": {\"colorbar\": {\"outlinewidth\": 0, \"ticks\": \"\"}}, \"type\": \"scattercarpet\"}], \"scattergeo\": [{\"marker\": {\"colorbar\": {\"outlinewidth\": 0, \"ticks\": \"\"}}, \"type\": \"scattergeo\"}], \"scattergl\": [{\"marker\": {\"colorbar\": {\"outlinewidth\": 0, \"ticks\": \"\"}}, \"type\": \"scattergl\"}], \"scattermapbox\": [{\"marker\": {\"colorbar\": {\"outlinewidth\": 0, \"ticks\": \"\"}}, \"type\": \"scattermapbox\"}], \"scatterpolar\": [{\"marker\": {\"colorbar\": {\"outlinewidth\": 0, \"ticks\": \"\"}}, \"type\": \"scatterpolar\"}], \"scatterpolargl\": [{\"marker\": {\"colorbar\": {\"outlinewidth\": 0, \"ticks\": \"\"}}, \"type\": \"scatterpolargl\"}], \"scatterternary\": [{\"marker\": {\"colorbar\": {\"outlinewidth\": 0, \"ticks\": \"\"}}, \"type\": \"scatterternary\"}], \"surface\": [{\"colorbar\": {\"outlinewidth\": 0, \"ticks\": \"\"}, \"colorscale\": [[0.0, \"#0d0887\"], [0.1111111111111111, \"#46039f\"], [0.2222222222222222, \"#7201a8\"], [0.3333333333333333, \"#9c179e\"], [0.4444444444444444, \"#bd3786\"], [0.5555555555555556, \"#d8576b\"], [0.6666666666666666, \"#ed7953\"], [0.7777777777777778, \"#fb9f3a\"], [0.8888888888888888, \"#fdca26\"], [1.0, \"#f0f921\"]], \"type\": \"surface\"}], \"table\": [{\"cells\": {\"fill\": {\"color\": \"#EBF0F8\"}, \"line\": {\"color\": \"white\"}}, \"header\": {\"fill\": {\"color\": \"#C8D4E3\"}, \"line\": {\"color\": \"white\"}}, \"type\": \"table\"}]}, \"layout\": {\"annotationdefaults\": {\"arrowcolor\": \"#2a3f5f\", \"arrowhead\": 0, \"arrowwidth\": 1}, \"coloraxis\": {\"colorbar\": {\"outlinewidth\": 0, \"ticks\": \"\"}}, \"colorscale\": {\"diverging\": [[0, \"#8e0152\"], [0.1, \"#c51b7d\"], [0.2, \"#de77ae\"], [0.3, \"#f1b6da\"], [0.4, \"#fde0ef\"], [0.5, \"#f7f7f7\"], [0.6, \"#e6f5d0\"], [0.7, \"#b8e186\"], [0.8, \"#7fbc41\"], [0.9, \"#4d9221\"], [1, \"#276419\"]], \"sequential\": [[0.0, \"#0d0887\"], [0.1111111111111111, \"#46039f\"], [0.2222222222222222, \"#7201a8\"], [0.3333333333333333, \"#9c179e\"], [0.4444444444444444, \"#bd3786\"], [0.5555555555555556, \"#d8576b\"], [0.6666666666666666, \"#ed7953\"], [0.7777777777777778, \"#fb9f3a\"], [0.8888888888888888, \"#fdca26\"], [1.0, \"#f0f921\"]], \"sequentialminus\": [[0.0, \"#0d0887\"], [0.1111111111111111, \"#46039f\"], [0.2222222222222222, \"#7201a8\"], [0.3333333333333333, \"#9c179e\"], [0.4444444444444444, \"#bd3786\"], [0.5555555555555556, \"#d8576b\"], [0.6666666666666666, \"#ed7953\"], [0.7777777777777778, \"#fb9f3a\"], [0.8888888888888888, \"#fdca26\"], [1.0, \"#f0f921\"]]}, \"colorway\": [\"#636efa\", \"#EF553B\", \"#00cc96\", \"#ab63fa\", \"#FFA15A\", \"#19d3f3\", \"#FF6692\", \"#B6E880\", \"#FF97FF\", \"#FECB52\"], \"font\": {\"color\": \"#2a3f5f\"}, \"geo\": {\"bgcolor\": \"white\", \"lakecolor\": \"white\", \"landcolor\": \"#E5ECF6\", \"showlakes\": true, \"showland\": true, \"subunitcolor\": \"white\"}, \"hoverlabel\": {\"align\": \"left\"}, \"hovermode\": \"closest\", \"mapbox\": {\"style\": \"light\"}, \"paper_bgcolor\": \"white\", \"plot_bgcolor\": \"#E5ECF6\", \"polar\": {\"angularaxis\": {\"gridcolor\": \"white\", \"linecolor\": \"white\", \"ticks\": \"\"}, \"bgcolor\": \"#E5ECF6\", \"radialaxis\": {\"gridcolor\": \"white\", \"linecolor\": \"white\", \"ticks\": \"\"}}, \"scene\": {\"xaxis\": {\"backgroundcolor\": \"#E5ECF6\", \"gridcolor\": \"white\", \"gridwidth\": 2, \"linecolor\": \"white\", \"showbackground\": true, \"ticks\": \"\", \"zerolinecolor\": \"white\"}, \"yaxis\": {\"backgroundcolor\": \"#E5ECF6\", \"gridcolor\": \"white\", \"gridwidth\": 2, \"linecolor\": \"white\", \"showbackground\": true, \"ticks\": \"\", \"zerolinecolor\": \"white\"}, \"zaxis\": {\"backgroundcolor\": \"#E5ECF6\", \"gridcolor\": \"white\", \"gridwidth\": 2, \"linecolor\": \"white\", \"showbackground\": true, \"ticks\": \"\", \"zerolinecolor\": \"white\"}}, \"shapedefaults\": {\"line\": {\"color\": \"#2a3f5f\"}}, \"ternary\": {\"aaxis\": {\"gridcolor\": \"white\", \"linecolor\": \"white\", \"ticks\": \"\"}, \"baxis\": {\"gridcolor\": \"white\", \"linecolor\": \"white\", \"ticks\": \"\"}, \"bgcolor\": \"#E5ECF6\", \"caxis\": {\"gridcolor\": \"white\", \"linecolor\": \"white\", \"ticks\": \"\"}}, \"title\": {\"x\": 0.05}, \"xaxis\": {\"automargin\": true, \"gridcolor\": \"white\", \"linecolor\": \"white\", \"ticks\": \"\", \"title\": {\"standoff\": 15}, \"zerolinecolor\": \"white\", \"zerolinewidth\": 2}, \"yaxis\": {\"automargin\": true, \"gridcolor\": \"white\", \"linecolor\": \"white\", \"ticks\": \"\", \"title\": {\"standoff\": 15}, \"zerolinecolor\": \"white\", \"zerolinewidth\": 2}}}, \"xaxis\": {\"anchor\": \"y\", \"domain\": [0.0, 1.0], \"title\": {\"text\": \"x\"}}, \"yaxis\": {\"anchor\": \"x\", \"domain\": [0.0, 1.0], \"title\": {\"text\": \"count\"}}},\n",
              "                        {\"responsive\": true}\n",
              "                    ).then(function(){\n",
              "                            \n",
              "var gd = document.getElementById('cfb69116-dd71-46e7-af13-fbf5e75de409');\n",
              "var x = new MutationObserver(function (mutations, observer) {{\n",
              "        var display = window.getComputedStyle(gd).display;\n",
              "        if (!display || display === 'none') {{\n",
              "            console.log([gd, 'removed!']);\n",
              "            Plotly.purge(gd);\n",
              "            observer.disconnect();\n",
              "        }}\n",
              "}});\n",
              "\n",
              "// Listen for the removal of the full notebook cells\n",
              "var notebookContainer = gd.closest('#notebook-container');\n",
              "if (notebookContainer) {{\n",
              "    x.observe(notebookContainer, {childList: true});\n",
              "}}\n",
              "\n",
              "// Listen for the clearing of the current output cell\n",
              "var outputEl = gd.closest('.output');\n",
              "if (outputEl) {{\n",
              "    x.observe(outputEl, {childList: true});\n",
              "}}\n",
              "\n",
              "                        })\n",
              "                };\n",
              "                \n",
              "            </script>\n",
              "        </div>\n",
              "</body>\n",
              "</html>"
            ]
          },
          "metadata": {
            "tags": []
          }
        }
      ]
    },
    {
      "cell_type": "code",
      "metadata": {
        "colab": {
          "base_uri": "https://localhost:8080/"
        },
        "id": "zLny2XvzMKb1",
        "outputId": "07c8b404-87b9-41da-90ba-782ff5223bd1"
      },
      "source": [
        "df_madereiro[\"Ano_PEVS\"].unique()"
      ],
      "execution_count": 131,
      "outputs": [
        {
          "output_type": "execute_result",
          "data": {
            "text/plain": [
              "array([1994, 1995, 1996, 1997, 1998, 1999, 2000, 2001, 2002, 2003, 2004,\n",
              "       2005, 2006, 2007, 2008, 2009, 2010, 2011, 2012, 2013, 2014, 2015,\n",
              "       2016])"
            ]
          },
          "metadata": {
            "tags": []
          },
          "execution_count": 131
        }
      ]
    },
    {
      "cell_type": "code",
      "metadata": {
        "id": "j0mu8i7DQjO1"
      },
      "source": [
        "def plotBarFilterTipoUso(df, tipo_uso):\n",
        "  quantidade_PEVS = df.query(\"Tipo_de_Uso == % s\"% tipo_uso)[\"Quantidade PEVS\"];\n",
        "  fig = px.bar(df, x=df.query(\"Tipo_de_Uso == % s\"% tipo_uso)[\"Ano_PEVS\"],\n",
        "              y=quantidade_PEVS,\n",
        "              color=quantidade_PEVS,\n",
        "              title=\"Uso de Madeira para Combustível de 1995 até 2016\")\n",
        "  fig.show()"
      ],
      "execution_count": 177,
      "outputs": []
    },
    {
      "cell_type": "code",
      "metadata": {
        "colab": {
          "base_uri": "https://localhost:8080/",
          "height": 542
        },
        "id": "sjnipsyoSAPM",
        "outputId": "79b3ecc7-2662-41e2-eea0-9bd5af472256"
      },
      "source": [
        "plotBarFilterTipoUso(df_madereiro, \"'Madeira para Combustível'\")"
      ],
      "execution_count": 178,
      "outputs": [
        {
          "output_type": "display_data",
          "data": {
            "text/html": [
              "<html>\n",
              "<head><meta charset=\"utf-8\" /></head>\n",
              "<body>\n",
              "    <div>\n",
              "            <script src=\"https://cdnjs.cloudflare.com/ajax/libs/mathjax/2.7.5/MathJax.js?config=TeX-AMS-MML_SVG\"></script><script type=\"text/javascript\">if (window.MathJax) {MathJax.Hub.Config({SVG: {font: \"STIX-Web\"}});}</script>\n",
              "                <script type=\"text/javascript\">window.PlotlyConfig = {MathJaxConfig: 'local'};</script>\n",
              "        <script src=\"https://cdn.plot.ly/plotly-latest.min.js\"></script>    \n",
              "            <div id=\"f2b3a5af-1aae-4247-8af5-5e595ad2a591\" class=\"plotly-graph-div\" style=\"height:525px; width:100%;\"></div>\n",
              "            <script type=\"text/javascript\">\n",
              "                \n",
              "                    window.PLOTLYENV=window.PLOTLYENV || {};\n",
              "                    \n",
              "                if (document.getElementById(\"f2b3a5af-1aae-4247-8af5-5e595ad2a591\")) {\n",
              "                    Plotly.newPlot(\n",
              "                        'f2b3a5af-1aae-4247-8af5-5e595ad2a591',\n",
              "                        [{\"alignmentgroup\": \"True\", \"hoverlabel\": {\"namelength\": 0}, \"hovertemplate\": \"x=%{x}<br>y=%{y}<br>color=%{marker.color}\", \"legendgroup\": \"\", \"marker\": {\"color\": [1886782.0, 1805151.0, 1461363.0, 1650835.0, 1284032.0, 1281125.0, 1429180.0, 1729319.0, 1955377.0, 2227206.0, 2185950.0, 2972405.0, 2505733.0, 2530425.0, 2221990.0, 1639779.0, 1502997.0, 1351192.0, 1159695.0, 1006254.0, 1021062.0, 89747722.0, 84795387.0, 67377486.0, 62461750.0, 58347879.0, 54672259.0, 50395399.0, 49001583.0, 49502542.0, 47232026.0, 47168345.0, 45421627.0, 45159866.0, 43910054.0, 42117639.0, 41439567.0, 38207117.0, 37574207.0, 34313637.0, 30955224.0, 28907314.0, 2382695.0, 2481839.0, 2602540.0, 3781567.0, 3042789.0, 2536847.0, 2385516.0, 2092309.0, 2000266.0, 2154386.0, 2157652.0, 2526437.0, 2608847.0, 3806044.0, 3975393.0, 3378492.0, 3448210.0, 4127781.0, 5097809.0, 5583166.0, 6219325.0, 28784066.0, 28166284.0, 36565831.0, 27131675.0, 30252670.0, 35770568.0, 40469405.0, 30042485.0, 46410020.0, 33826588.0, 34004544.0, 35542255.0, 36110455.0, 39089275.0, 42037848.0, 41410850.0, 48103232.0, 51741429.0, 56761788.0, 55392485.0, 56167873.0, 797003.0, 26960153.0, 5385514.0, 54533947.0, 544488.0, 24954940.0, 4957238.0, 53297902.0], \"coloraxis\": \"coloraxis\"}, \"name\": \"\", \"offsetgroup\": \"\", \"orientation\": \"v\", \"showlegend\": false, \"textposition\": \"auto\", \"type\": \"bar\", \"x\": [1994, 1995, 1996, 1997, 1998, 1999, 2000, 2001, 2002, 2003, 2004, 2005, 2006, 2007, 2008, 2009, 2010, 2011, 2012, 2013, 2014, 1994, 1995, 1996, 1997, 1998, 1999, 2000, 2001, 2002, 2003, 2004, 2005, 2006, 2007, 2008, 2009, 2010, 2011, 2012, 2013, 2014, 1994, 1995, 1996, 1997, 1998, 1999, 2000, 2001, 2002, 2003, 2004, 2005, 2006, 2007, 2008, 2009, 2010, 2011, 2012, 2013, 2014, 1994, 1995, 1996, 1997, 1998, 1999, 2000, 2001, 2002, 2003, 2004, 2005, 2006, 2007, 2008, 2009, 2010, 2011, 2012, 2013, 2014, 2015, 2015, 2015, 2015, 2016, 2016, 2016, 2016], \"xaxis\": \"x\", \"y\": [1886782.0, 1805151.0, 1461363.0, 1650835.0, 1284032.0, 1281125.0, 1429180.0, 1729319.0, 1955377.0, 2227206.0, 2185950.0, 2972405.0, 2505733.0, 2530425.0, 2221990.0, 1639779.0, 1502997.0, 1351192.0, 1159695.0, 1006254.0, 1021062.0, 89747722.0, 84795387.0, 67377486.0, 62461750.0, 58347879.0, 54672259.0, 50395399.0, 49001583.0, 49502542.0, 47232026.0, 47168345.0, 45421627.0, 45159866.0, 43910054.0, 42117639.0, 41439567.0, 38207117.0, 37574207.0, 34313637.0, 30955224.0, 28907314.0, 2382695.0, 2481839.0, 2602540.0, 3781567.0, 3042789.0, 2536847.0, 2385516.0, 2092309.0, 2000266.0, 2154386.0, 2157652.0, 2526437.0, 2608847.0, 3806044.0, 3975393.0, 3378492.0, 3448210.0, 4127781.0, 5097809.0, 5583166.0, 6219325.0, 28784066.0, 28166284.0, 36565831.0, 27131675.0, 30252670.0, 35770568.0, 40469405.0, 30042485.0, 46410020.0, 33826588.0, 34004544.0, 35542255.0, 36110455.0, 39089275.0, 42037848.0, 41410850.0, 48103232.0, 51741429.0, 56761788.0, 55392485.0, 56167873.0, 797003.0, 26960153.0, 5385514.0, 54533947.0, 544488.0, 24954940.0, 4957238.0, 53297902.0], \"yaxis\": \"y\"}],\n",
              "                        {\"barmode\": \"relative\", \"coloraxis\": {\"colorbar\": {\"title\": {\"text\": \"color\"}}, \"colorscale\": [[0.0, \"#0d0887\"], [0.1111111111111111, \"#46039f\"], [0.2222222222222222, \"#7201a8\"], [0.3333333333333333, \"#9c179e\"], [0.4444444444444444, \"#bd3786\"], [0.5555555555555556, \"#d8576b\"], [0.6666666666666666, \"#ed7953\"], [0.7777777777777778, \"#fb9f3a\"], [0.8888888888888888, \"#fdca26\"], [1.0, \"#f0f921\"]]}, \"legend\": {\"tracegroupgap\": 0}, \"template\": {\"data\": {\"bar\": [{\"error_x\": {\"color\": \"#2a3f5f\"}, \"error_y\": {\"color\": \"#2a3f5f\"}, \"marker\": {\"line\": {\"color\": \"#E5ECF6\", \"width\": 0.5}}, \"type\": \"bar\"}], \"barpolar\": [{\"marker\": {\"line\": {\"color\": \"#E5ECF6\", \"width\": 0.5}}, \"type\": \"barpolar\"}], \"carpet\": [{\"aaxis\": {\"endlinecolor\": \"#2a3f5f\", \"gridcolor\": \"white\", \"linecolor\": \"white\", \"minorgridcolor\": \"white\", \"startlinecolor\": \"#2a3f5f\"}, \"baxis\": {\"endlinecolor\": \"#2a3f5f\", \"gridcolor\": \"white\", \"linecolor\": \"white\", \"minorgridcolor\": \"white\", \"startlinecolor\": \"#2a3f5f\"}, \"type\": \"carpet\"}], \"choropleth\": [{\"colorbar\": {\"outlinewidth\": 0, \"ticks\": \"\"}, \"type\": \"choropleth\"}], \"contour\": [{\"colorbar\": {\"outlinewidth\": 0, \"ticks\": \"\"}, \"colorscale\": [[0.0, \"#0d0887\"], [0.1111111111111111, \"#46039f\"], [0.2222222222222222, \"#7201a8\"], [0.3333333333333333, \"#9c179e\"], [0.4444444444444444, \"#bd3786\"], [0.5555555555555556, \"#d8576b\"], [0.6666666666666666, \"#ed7953\"], [0.7777777777777778, \"#fb9f3a\"], [0.8888888888888888, \"#fdca26\"], [1.0, \"#f0f921\"]], \"type\": \"contour\"}], \"contourcarpet\": [{\"colorbar\": {\"outlinewidth\": 0, \"ticks\": \"\"}, \"type\": \"contourcarpet\"}], \"heatmap\": [{\"colorbar\": {\"outlinewidth\": 0, \"ticks\": \"\"}, \"colorscale\": [[0.0, \"#0d0887\"], [0.1111111111111111, \"#46039f\"], [0.2222222222222222, \"#7201a8\"], [0.3333333333333333, \"#9c179e\"], [0.4444444444444444, \"#bd3786\"], [0.5555555555555556, \"#d8576b\"], [0.6666666666666666, \"#ed7953\"], [0.7777777777777778, \"#fb9f3a\"], [0.8888888888888888, \"#fdca26\"], [1.0, \"#f0f921\"]], \"type\": \"heatmap\"}], \"heatmapgl\": [{\"colorbar\": {\"outlinewidth\": 0, \"ticks\": \"\"}, \"colorscale\": [[0.0, \"#0d0887\"], [0.1111111111111111, \"#46039f\"], [0.2222222222222222, \"#7201a8\"], [0.3333333333333333, \"#9c179e\"], [0.4444444444444444, \"#bd3786\"], [0.5555555555555556, \"#d8576b\"], [0.6666666666666666, \"#ed7953\"], [0.7777777777777778, \"#fb9f3a\"], [0.8888888888888888, \"#fdca26\"], [1.0, \"#f0f921\"]], \"type\": \"heatmapgl\"}], \"histogram\": [{\"marker\": {\"colorbar\": {\"outlinewidth\": 0, \"ticks\": \"\"}}, \"type\": \"histogram\"}], \"histogram2d\": [{\"colorbar\": {\"outlinewidth\": 0, \"ticks\": \"\"}, \"colorscale\": [[0.0, \"#0d0887\"], [0.1111111111111111, \"#46039f\"], [0.2222222222222222, \"#7201a8\"], [0.3333333333333333, \"#9c179e\"], [0.4444444444444444, \"#bd3786\"], [0.5555555555555556, \"#d8576b\"], [0.6666666666666666, \"#ed7953\"], [0.7777777777777778, \"#fb9f3a\"], [0.8888888888888888, \"#fdca26\"], [1.0, \"#f0f921\"]], \"type\": \"histogram2d\"}], \"histogram2dcontour\": [{\"colorbar\": {\"outlinewidth\": 0, \"ticks\": \"\"}, \"colorscale\": [[0.0, \"#0d0887\"], [0.1111111111111111, \"#46039f\"], [0.2222222222222222, \"#7201a8\"], [0.3333333333333333, \"#9c179e\"], [0.4444444444444444, \"#bd3786\"], [0.5555555555555556, \"#d8576b\"], [0.6666666666666666, \"#ed7953\"], [0.7777777777777778, \"#fb9f3a\"], [0.8888888888888888, \"#fdca26\"], [1.0, \"#f0f921\"]], \"type\": \"histogram2dcontour\"}], \"mesh3d\": [{\"colorbar\": {\"outlinewidth\": 0, \"ticks\": \"\"}, \"type\": \"mesh3d\"}], \"parcoords\": [{\"line\": {\"colorbar\": {\"outlinewidth\": 0, \"ticks\": \"\"}}, \"type\": \"parcoords\"}], \"pie\": [{\"automargin\": true, \"type\": \"pie\"}], \"scatter\": [{\"marker\": {\"colorbar\": {\"outlinewidth\": 0, \"ticks\": \"\"}}, \"type\": \"scatter\"}], \"scatter3d\": [{\"line\": {\"colorbar\": {\"outlinewidth\": 0, \"ticks\": \"\"}}, \"marker\": {\"colorbar\": {\"outlinewidth\": 0, \"ticks\": \"\"}}, \"type\": \"scatter3d\"}], \"scattercarpet\": [{\"marker\": {\"colorbar\": {\"outlinewidth\": 0, \"ticks\": \"\"}}, \"type\": \"scattercarpet\"}], \"scattergeo\": [{\"marker\": {\"colorbar\": {\"outlinewidth\": 0, \"ticks\": \"\"}}, \"type\": \"scattergeo\"}], \"scattergl\": [{\"marker\": {\"colorbar\": {\"outlinewidth\": 0, \"ticks\": \"\"}}, \"type\": \"scattergl\"}], \"scattermapbox\": [{\"marker\": {\"colorbar\": {\"outlinewidth\": 0, \"ticks\": \"\"}}, \"type\": \"scattermapbox\"}], \"scatterpolar\": [{\"marker\": {\"colorbar\": {\"outlinewidth\": 0, \"ticks\": \"\"}}, \"type\": \"scatterpolar\"}], \"scatterpolargl\": [{\"marker\": {\"colorbar\": {\"outlinewidth\": 0, \"ticks\": \"\"}}, \"type\": \"scatterpolargl\"}], \"scatterternary\": [{\"marker\": {\"colorbar\": {\"outlinewidth\": 0, \"ticks\": \"\"}}, \"type\": \"scatterternary\"}], \"surface\": [{\"colorbar\": {\"outlinewidth\": 0, \"ticks\": \"\"}, \"colorscale\": [[0.0, \"#0d0887\"], [0.1111111111111111, \"#46039f\"], [0.2222222222222222, \"#7201a8\"], [0.3333333333333333, \"#9c179e\"], [0.4444444444444444, \"#bd3786\"], [0.5555555555555556, \"#d8576b\"], [0.6666666666666666, \"#ed7953\"], [0.7777777777777778, \"#fb9f3a\"], [0.8888888888888888, \"#fdca26\"], [1.0, \"#f0f921\"]], \"type\": \"surface\"}], \"table\": [{\"cells\": {\"fill\": {\"color\": \"#EBF0F8\"}, \"line\": {\"color\": \"white\"}}, \"header\": {\"fill\": {\"color\": \"#C8D4E3\"}, \"line\": {\"color\": \"white\"}}, \"type\": \"table\"}]}, \"layout\": {\"annotationdefaults\": {\"arrowcolor\": \"#2a3f5f\", \"arrowhead\": 0, \"arrowwidth\": 1}, \"coloraxis\": {\"colorbar\": {\"outlinewidth\": 0, \"ticks\": \"\"}}, \"colorscale\": {\"diverging\": [[0, \"#8e0152\"], [0.1, \"#c51b7d\"], [0.2, \"#de77ae\"], [0.3, \"#f1b6da\"], [0.4, \"#fde0ef\"], [0.5, \"#f7f7f7\"], [0.6, \"#e6f5d0\"], [0.7, \"#b8e186\"], [0.8, \"#7fbc41\"], [0.9, \"#4d9221\"], [1, \"#276419\"]], \"sequential\": [[0.0, \"#0d0887\"], [0.1111111111111111, \"#46039f\"], [0.2222222222222222, \"#7201a8\"], [0.3333333333333333, \"#9c179e\"], [0.4444444444444444, \"#bd3786\"], [0.5555555555555556, \"#d8576b\"], [0.6666666666666666, \"#ed7953\"], [0.7777777777777778, \"#fb9f3a\"], [0.8888888888888888, \"#fdca26\"], [1.0, \"#f0f921\"]], \"sequentialminus\": [[0.0, \"#0d0887\"], [0.1111111111111111, \"#46039f\"], [0.2222222222222222, \"#7201a8\"], [0.3333333333333333, \"#9c179e\"], [0.4444444444444444, \"#bd3786\"], [0.5555555555555556, \"#d8576b\"], [0.6666666666666666, \"#ed7953\"], [0.7777777777777778, \"#fb9f3a\"], [0.8888888888888888, \"#fdca26\"], [1.0, \"#f0f921\"]]}, \"colorway\": [\"#636efa\", \"#EF553B\", \"#00cc96\", \"#ab63fa\", \"#FFA15A\", \"#19d3f3\", \"#FF6692\", \"#B6E880\", \"#FF97FF\", \"#FECB52\"], \"font\": {\"color\": \"#2a3f5f\"}, \"geo\": {\"bgcolor\": \"white\", \"lakecolor\": \"white\", \"landcolor\": \"#E5ECF6\", \"showlakes\": true, \"showland\": true, \"subunitcolor\": \"white\"}, \"hoverlabel\": {\"align\": \"left\"}, \"hovermode\": \"closest\", \"mapbox\": {\"style\": \"light\"}, \"paper_bgcolor\": \"white\", \"plot_bgcolor\": \"#E5ECF6\", \"polar\": {\"angularaxis\": {\"gridcolor\": \"white\", \"linecolor\": \"white\", \"ticks\": \"\"}, \"bgcolor\": \"#E5ECF6\", \"radialaxis\": {\"gridcolor\": \"white\", \"linecolor\": \"white\", \"ticks\": \"\"}}, \"scene\": {\"xaxis\": {\"backgroundcolor\": \"#E5ECF6\", \"gridcolor\": \"white\", \"gridwidth\": 2, \"linecolor\": \"white\", \"showbackground\": true, \"ticks\": \"\", \"zerolinecolor\": \"white\"}, \"yaxis\": {\"backgroundcolor\": \"#E5ECF6\", \"gridcolor\": \"white\", \"gridwidth\": 2, \"linecolor\": \"white\", \"showbackground\": true, \"ticks\": \"\", \"zerolinecolor\": \"white\"}, \"zaxis\": {\"backgroundcolor\": \"#E5ECF6\", \"gridcolor\": \"white\", \"gridwidth\": 2, \"linecolor\": \"white\", \"showbackground\": true, \"ticks\": \"\", \"zerolinecolor\": \"white\"}}, \"shapedefaults\": {\"line\": {\"color\": \"#2a3f5f\"}}, \"ternary\": {\"aaxis\": {\"gridcolor\": \"white\", \"linecolor\": \"white\", \"ticks\": \"\"}, \"baxis\": {\"gridcolor\": \"white\", \"linecolor\": \"white\", \"ticks\": \"\"}, \"bgcolor\": \"#E5ECF6\", \"caxis\": {\"gridcolor\": \"white\", \"linecolor\": \"white\", \"ticks\": \"\"}}, \"title\": {\"x\": 0.05}, \"xaxis\": {\"automargin\": true, \"gridcolor\": \"white\", \"linecolor\": \"white\", \"ticks\": \"\", \"title\": {\"standoff\": 15}, \"zerolinecolor\": \"white\", \"zerolinewidth\": 2}, \"yaxis\": {\"automargin\": true, \"gridcolor\": \"white\", \"linecolor\": \"white\", \"ticks\": \"\", \"title\": {\"standoff\": 15}, \"zerolinecolor\": \"white\", \"zerolinewidth\": 2}}}, \"title\": {\"text\": \"Uso de Madeira para Combust\\u00edvel de 1995 at\\u00e9 2016\"}, \"xaxis\": {\"anchor\": \"y\", \"domain\": [0.0, 1.0], \"title\": {\"text\": \"x\"}}, \"yaxis\": {\"anchor\": \"x\", \"domain\": [0.0, 1.0], \"title\": {\"text\": \"y\"}}},\n",
              "                        {\"responsive\": true}\n",
              "                    ).then(function(){\n",
              "                            \n",
              "var gd = document.getElementById('f2b3a5af-1aae-4247-8af5-5e595ad2a591');\n",
              "var x = new MutationObserver(function (mutations, observer) {{\n",
              "        var display = window.getComputedStyle(gd).display;\n",
              "        if (!display || display === 'none') {{\n",
              "            console.log([gd, 'removed!']);\n",
              "            Plotly.purge(gd);\n",
              "            observer.disconnect();\n",
              "        }}\n",
              "}});\n",
              "\n",
              "// Listen for the removal of the full notebook cells\n",
              "var notebookContainer = gd.closest('#notebook-container');\n",
              "if (notebookContainer) {{\n",
              "    x.observe(notebookContainer, {childList: true});\n",
              "}}\n",
              "\n",
              "// Listen for the clearing of the current output cell\n",
              "var outputEl = gd.closest('.output');\n",
              "if (outputEl) {{\n",
              "    x.observe(outputEl, {childList: true});\n",
              "}}\n",
              "\n",
              "                        })\n",
              "                };\n",
              "                \n",
              "            </script>\n",
              "        </div>\n",
              "</body>\n",
              "</html>"
            ]
          },
          "metadata": {
            "tags": []
          }
        }
      ]
    },
    {
      "cell_type": "code",
      "metadata": {
        "id": "W2FlmoUFSBQD"
      },
      "source": [
        "Madeira para Combustível - Subdivisão     138\n",
        "Madeira para Indústria - Subdivisão II  "
      ],
      "execution_count": null,
      "outputs": []
    }
  ]
}